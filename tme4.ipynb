{
 "cells": [
  {
   "cell_type": "code",
   "execution_count": 1,
   "id": "aa04c01f",
   "metadata": {},
   "outputs": [],
   "source": [
    "from pulp import *\n",
    "import numpy as np\n",
    "import pandas as pd\n",
    "import matplotlib.pyplot as plt"
   ]
  },
  {
   "cell_type": "code",
   "execution_count": 2,
   "id": "2b7ae01c",
   "metadata": {},
   "outputs": [],
   "source": [
    "# Dorin MANEA \n",
    "# Iarina NISTOR - 21210925"
   ]
  },
  {
   "cell_type": "code",
   "execution_count": 3,
   "id": "5a6762f8",
   "metadata": {},
   "outputs": [],
   "source": [
    "#Exercice 1"
   ]
  },
  {
   "cell_type": "code",
   "execution_count": 4,
   "id": "4f5ee876",
   "metadata": {},
   "outputs": [
    {
     "data": {
      "text/html": [
       "<div>\n",
       "<style scoped>\n",
       "    .dataframe tbody tr th:only-of-type {\n",
       "        vertical-align: middle;\n",
       "    }\n",
       "\n",
       "    .dataframe tbody tr th {\n",
       "        vertical-align: top;\n",
       "    }\n",
       "\n",
       "    .dataframe thead th {\n",
       "        text-align: right;\n",
       "    }\n",
       "</style>\n",
       "<table border=\"1\" class=\"dataframe\">\n",
       "  <thead>\n",
       "    <tr style=\"text-align: right;\">\n",
       "      <th></th>\n",
       "      <th>0</th>\n",
       "      <th>1</th>\n",
       "      <th>2</th>\n",
       "    </tr>\n",
       "  </thead>\n",
       "  <tbody>\n",
       "    <tr>\n",
       "      <th>0</th>\n",
       "      <td>Australia</td>\n",
       "      <td>17.3</td>\n",
       "      <td>327.4</td>\n",
       "    </tr>\n",
       "    <tr>\n",
       "      <th>1</th>\n",
       "      <td>Austria</td>\n",
       "      <td>7.7</td>\n",
       "      <td>179.5</td>\n",
       "    </tr>\n",
       "    <tr>\n",
       "      <th>2</th>\n",
       "      <td>Belgium</td>\n",
       "      <td>10.4</td>\n",
       "      <td>279.4</td>\n",
       "    </tr>\n",
       "    <tr>\n",
       "      <th>3</th>\n",
       "      <td>Denmark</td>\n",
       "      <td>5.1</td>\n",
       "      <td>139.1</td>\n",
       "    </tr>\n",
       "    <tr>\n",
       "      <th>4</th>\n",
       "      <td>Finland</td>\n",
       "      <td>5.0</td>\n",
       "      <td>92.5</td>\n",
       "    </tr>\n",
       "    <tr>\n",
       "      <th>5</th>\n",
       "      <td>France</td>\n",
       "      <td>56.9</td>\n",
       "      <td>926.7</td>\n",
       "    </tr>\n",
       "    <tr>\n",
       "      <th>6</th>\n",
       "      <td>Germany</td>\n",
       "      <td>79.7</td>\n",
       "      <td>2186.3</td>\n",
       "    </tr>\n",
       "    <tr>\n",
       "      <th>7</th>\n",
       "      <td>Ireland</td>\n",
       "      <td>3.5</td>\n",
       "      <td>96.8</td>\n",
       "    </tr>\n",
       "    <tr>\n",
       "      <th>8</th>\n",
       "      <td>Italy</td>\n",
       "      <td>57.8</td>\n",
       "      <td>523.9</td>\n",
       "    </tr>\n",
       "    <tr>\n",
       "      <th>9</th>\n",
       "      <td>Japan</td>\n",
       "      <td>124.0</td>\n",
       "      <td>935.9</td>\n",
       "    </tr>\n",
       "    <tr>\n",
       "      <th>10</th>\n",
       "      <td>Netherland</td>\n",
       "      <td>15.1</td>\n",
       "      <td>444.2</td>\n",
       "    </tr>\n",
       "    <tr>\n",
       "      <th>11</th>\n",
       "      <td>Norway</td>\n",
       "      <td>4.3</td>\n",
       "      <td>119.7</td>\n",
       "    </tr>\n",
       "    <tr>\n",
       "      <th>12</th>\n",
       "      <td>Spain</td>\n",
       "      <td>39.0</td>\n",
       "      <td>300.7</td>\n",
       "    </tr>\n",
       "    <tr>\n",
       "      <th>13</th>\n",
       "      <td>Sweden</td>\n",
       "      <td>8.7</td>\n",
       "      <td>201.9</td>\n",
       "    </tr>\n",
       "    <tr>\n",
       "      <th>14</th>\n",
       "      <td>Switzerland</td>\n",
       "      <td>6.9</td>\n",
       "      <td>194.7</td>\n",
       "    </tr>\n",
       "    <tr>\n",
       "      <th>15</th>\n",
       "      <td>United-Kingdom</td>\n",
       "      <td>57.7</td>\n",
       "      <td>1592.9</td>\n",
       "    </tr>\n",
       "    <tr>\n",
       "      <th>16</th>\n",
       "      <td>United-States</td>\n",
       "      <td>252.7</td>\n",
       "      <td>5142.2</td>\n",
       "    </tr>\n",
       "  </tbody>\n",
       "</table>\n",
       "</div>"
      ],
      "text/plain": [
       "                 0      1       2\n",
       "0        Australia   17.3   327.4\n",
       "1          Austria    7.7   179.5\n",
       "2          Belgium   10.4   279.4\n",
       "3          Denmark    5.1   139.1\n",
       "4          Finland    5.0    92.5\n",
       "5           France   56.9   926.7\n",
       "6          Germany   79.7  2186.3\n",
       "7          Ireland    3.5    96.8\n",
       "8            Italy   57.8   523.9\n",
       "9            Japan  124.0   935.9\n",
       "10      Netherland   15.1   444.2\n",
       "11          Norway    4.3   119.7\n",
       "12           Spain   39.0   300.7\n",
       "13          Sweden    8.7   201.9\n",
       "14     Switzerland    6.9   194.7\n",
       "15  United-Kingdom   57.7  1592.9\n",
       "16   United-States  252.7  5142.2"
      ]
     },
     "execution_count": 4,
     "metadata": {},
     "output_type": "execute_result"
    }
   ],
   "source": [
    "data=pd.read_csv('confiserie.csv',header=None)\n",
    "data"
   ]
  },
  {
   "cell_type": "code",
   "execution_count": 5,
   "id": "bba7a540",
   "metadata": {},
   "outputs": [],
   "source": [
    "dt=data.to_numpy()\n",
    "x=dt[:,1]\n",
    "y=dt[:,2]"
   ]
  },
  {
   "cell_type": "code",
   "execution_count": 6,
   "id": "1630deb9",
   "metadata": {},
   "outputs": [],
   "source": [
    "def cov(x,y):\n",
    "    return (1 / len(x))*np.sum((x - np.mean(x))*(y - np.mean(y)))\n",
    "    "
   ]
  },
  {
   "cell_type": "code",
   "execution_count": 7,
   "id": "d304c363",
   "metadata": {},
   "outputs": [],
   "source": [
    "def regression_mc(x, y):\n",
    "    m = cov(x, y)/np.var(x)\n",
    "    p = np.mean(y) - m*np.mean(x)\n",
    "    return m, p"
   ]
  },
  {
   "cell_type": "code",
   "execution_count": 8,
   "id": "54f434cb",
   "metadata": {},
   "outputs": [],
   "source": [
    "#b,a=regression_mc(x,y)"
   ]
  },
  {
   "cell_type": "code",
   "execution_count": 9,
   "id": "e99bc0ab",
   "metadata": {},
   "outputs": [
    {
     "name": "stdout",
     "output_type": "stream",
     "text": [
      "Exercice1:\n",
      "MINIMIZE\n",
      "1*z_1 + 1*z_10 + 1*z_11 + 1*z_12 + 1*z_13 + 1*z_14 + 1*z_15 + 1*z_16 + 1*z_17 + 1*z_2 + 1*z_3 + 1*z_4 + 1*z_5 + 1*z_6 + 1*z_7 + 1*z_8 + 1*z_9 + 0\n",
      "SUBJECT TO\n",
      "_C1: a + 17.3 b + z_1 >= 327.4\n",
      "\n",
      "_C2: - a - 17.3 b + z_1 >= -327.4\n",
      "\n",
      "_C3: a + 7.7 b + z_2 >= 179.5\n",
      "\n",
      "_C4: - a - 7.7 b + z_2 >= -179.5\n",
      "\n",
      "_C5: a + 10.4 b + z_3 >= 279.4\n",
      "\n",
      "_C6: - a - 10.4 b + z_3 >= -279.4\n",
      "\n",
      "_C7: a + 5.1 b + z_4 >= 139.1\n",
      "\n",
      "_C8: - a - 5.1 b + z_4 >= -139.1\n",
      "\n",
      "_C9: a + 5 b + z_5 >= 92.5\n",
      "\n",
      "_C10: - a - 5 b + z_5 >= -92.5\n",
      "\n",
      "_C11: a + 56.9 b + z_6 >= 926.7\n",
      "\n",
      "_C12: - a - 56.9 b + z_6 >= -926.7\n",
      "\n",
      "_C13: a + 79.7 b + z_7 >= 2186.3\n",
      "\n",
      "_C14: - a - 79.7 b + z_7 >= -2186.3\n",
      "\n",
      "_C15: a + 3.5 b + z_8 >= 96.8\n",
      "\n",
      "_C16: - a - 3.5 b + z_8 >= -96.8\n",
      "\n",
      "_C17: a + 57.8 b + z_9 >= 523.9\n",
      "\n",
      "_C18: - a - 57.8 b + z_9 >= -523.9\n",
      "\n",
      "_C19: a + 124 b + z_10 >= 935.9\n",
      "\n",
      "_C20: - a - 124 b + z_10 >= -935.9\n",
      "\n",
      "_C21: a + 15.1 b + z_11 >= 444.2\n",
      "\n",
      "_C22: - a - 15.1 b + z_11 >= -444.2\n",
      "\n",
      "_C23: a + 4.3 b + z_12 >= 119.7\n",
      "\n",
      "_C24: - a - 4.3 b + z_12 >= -119.7\n",
      "\n",
      "_C25: a + 39 b + z_13 >= 300.7\n",
      "\n",
      "_C26: - a - 39 b + z_13 >= -300.7\n",
      "\n",
      "_C27: a + 8.7 b + z_14 >= 201.9\n",
      "\n",
      "_C28: - a - 8.7 b + z_14 >= -201.9\n",
      "\n",
      "_C29: a + 6.9 b + z_15 >= 194.7\n",
      "\n",
      "_C30: - a - 6.9 b + z_15 >= -194.7\n",
      "\n",
      "_C31: a + 57.7 b + z_16 >= 1592.9\n",
      "\n",
      "_C32: - a - 57.7 b + z_16 >= -1592.9\n",
      "\n",
      "_C33: a + 252.7 b + z_17 >= 5142.2\n",
      "\n",
      "_C34: - a - 252.7 b + z_17 >= -5142.2\n",
      "\n",
      "VARIABLES\n",
      "a Continuous\n",
      "b Continuous\n",
      "z_1 free Continuous\n",
      "z_10 free Continuous\n",
      "z_11 free Continuous\n",
      "z_12 free Continuous\n",
      "z_13 free Continuous\n",
      "z_14 free Continuous\n",
      "z_15 free Continuous\n",
      "z_16 free Continuous\n",
      "z_17 free Continuous\n",
      "z_2 free Continuous\n",
      "z_3 free Continuous\n",
      "z_4 free Continuous\n",
      "z_5 free Continuous\n",
      "z_6 free Continuous\n",
      "z_7 free Continuous\n",
      "z_8 free Continuous\n",
      "z_9 free Continuous\n",
      "\n",
      "GLPSOL--GLPK LP/MIP Solver 5.0\n",
      "Parameter(s) specified in the command line:\n",
      " --cpxlp Exercice1-pulp.lp -o Exercice1-pulp.sol\n",
      "Reading problem data from 'Exercice1-pulp.lp'...\n",
      "34 rows, 19 columns, 102 non-zeros\n",
      "58 lines were read\n",
      "GLPK Simplex Optimizer 5.0\n",
      "34 rows, 19 columns, 102 non-zeros\n",
      "Preprocessing...\n",
      "34 rows, 19 columns, 102 non-zeros\n",
      "Scaling...\n",
      " A: min|aij| =  1.000e+00  max|aij| =  2.527e+02  ratio =  2.527e+02\n",
      "GM: min|aij| =  3.431e-01  max|aij| =  2.915e+00  ratio =  8.497e+00\n",
      "EQ: min|aij| =  1.177e-01  max|aij| =  1.000e+00  ratio =  8.497e+00\n",
      "Constructing initial basis...\n",
      "Size of triangular part is 34\n",
      "      0: obj =   0.000000000e+00 inf =   5.525e+03 (17)\n",
      "     29: obj =   4.398734866e+03 inf =   3.441e-14 (0)\n",
      "*    33: obj =   4.271542135e+03 inf =   0.000e+00 (0)\n",
      "OPTIMAL LP SOLUTION FOUND\n",
      "Time used:   0.0 secs\n",
      "Memory used: 0.1 Mb (68353 bytes)\n",
      "Writing basic solution to 'Exercice1-pulp.sol'...\n",
      "Status: Optimal\n"
     ]
    }
   ],
   "source": [
    "exo1 = LpProblem(name=\"Exercice1\", sense=LpMinimize)\n",
    "n = len(data)\n",
    "z = LpVariable.matrix(\"z\", list(range(1,n+1)))\n",
    "a=LpVariable(\"a\",  lowBound=0)\n",
    "b=LpVariable(\"b\",  lowBound=0)\n",
    "exo1 += lpSum(z)\n",
    "for i in range(0,n):\n",
    "    exo1 += (z[i] >= y[i]-a-b*x[i]) \n",
    "    exo1 += (z[i] >= a+b*x[i]-y[i])\n",
    "print(exo1)\n",
    "status = exo1.solve(solver=GLPK(msg=True,keepFiles=True)) #keepFiles permet de créer un fichier .sol contenant la solution\n",
    "print(\"Status:\", LpStatus[exo1.status])\n"
   ]
  },
  {
   "cell_type": "code",
   "execution_count": 10,
   "id": "f673eced",
   "metadata": {},
   "outputs": [],
   "source": [
    "b_mc,a_mc=regression_mc(x,y)"
   ]
  },
  {
   "cell_type": "code",
   "execution_count": 11,
   "id": "ac3fb287",
   "metadata": {},
   "outputs": [],
   "source": [
    "def fig_regression_mc(x,y):\n",
    "    a = regression_mc(x,y)[1]\n",
    "    b = regression_mc(x,y)[0]\n",
    "    return plt.plot(x,a+b*x,color='red') and fig_nuage(x,y)"
   ]
  },
  {
   "cell_type": "code",
   "execution_count": 12,
   "id": "3d71c260",
   "metadata": {},
   "outputs": [],
   "source": [
    "def fig_nuage(x,y):\n",
    "    return plt.scatter(x,y,s=75,color='pink')"
   ]
  },
  {
   "cell_type": "code",
   "execution_count": 13,
   "id": "2876381b",
   "metadata": {},
   "outputs": [
    {
     "data": {
      "text/plain": [
       "(25.9376, 20.2464)"
      ]
     },
     "execution_count": 13,
     "metadata": {},
     "output_type": "execute_result"
    }
   ],
   "source": [
    "value(a),value(b)"
   ]
  },
  {
   "cell_type": "code",
   "execution_count": 14,
   "id": "9561b001",
   "metadata": {},
   "outputs": [
    {
     "data": {
      "text/plain": [
       "[<matplotlib.lines.Line2D at 0x7f4c3f59e830>]"
      ]
     },
     "execution_count": 14,
     "metadata": {},
     "output_type": "execute_result"
    },
    {
     "data": {
      "image/png": "[encoded data removed]",
      "text/plain": [
       "<Figure size 640x480 with 1 Axes>"
      ]
     },
     "metadata": {},
     "output_type": "display_data"
    }
   ],
   "source": [
    "fig_regression_mc(x,y)\n",
    "fig_nuage(x,y)\n",
    "fig_regression_mc(x,y)\n",
    "plt.plot(x,value(a)+value(b)*x,color=\"green\")"
   ]
  },
  {
   "cell_type": "code",
   "execution_count": 15,
   "id": "2ed0657c",
   "metadata": {},
   "outputs": [],
   "source": [
    "#Changement valeur aberrante"
   ]
  },
  {
   "cell_type": "code",
   "execution_count": 16,
   "id": "d56f0cc0",
   "metadata": {},
   "outputs": [
    {
     "data": {
      "text/plain": [
       "array([['Australia', 17.3, 327.4],\n",
       "       ['Austria', 7.7, 179.5],\n",
       "       ['Belgium', 10.4, 279.4],\n",
       "       ['Denmark', 5.1, 139.1],\n",
       "       ['Finland', 5.0, 92.5],\n",
       "       ['France', 56.9, 926.7],\n",
       "       ['Germany', 79.7, 2186.3],\n",
       "       ['Ireland', 3.5, 96.8],\n",
       "       ['Italy', 57.8, 523.9],\n",
       "       ['Japan', 124.0, 935.9],\n",
       "       ['Netherland', 15.1, 444.2],\n",
       "       ['Norway', 4.3, 119.7],\n",
       "       ['Spain', 39.0, 300.7],\n",
       "       ['Sweden', 8.7, 201.9],\n",
       "       ['Switzerland', 6.9, 194.7],\n",
       "       ['United-Kingdom', 57.7, 1592.9],\n",
       "       ['United-States', 5.27, 5142.2]], dtype=object)"
      ]
     },
     "execution_count": 16,
     "metadata": {},
     "output_type": "execute_result"
    }
   ],
   "source": [
    "d22=data.to_numpy()\n",
    "d22[len(d22)-1,1]=5.27\n",
    "d22"
   ]
  },
  {
   "cell_type": "code",
   "execution_count": 17,
   "id": "710134c1",
   "metadata": {},
   "outputs": [],
   "source": [
    "x2=d22[:,1]\n",
    "y2=d22[:,2]"
   ]
  },
  {
   "cell_type": "code",
   "execution_count": 18,
   "id": "0a9c65ea",
   "metadata": {},
   "outputs": [
    {
     "name": "stdout",
     "output_type": "stream",
     "text": [
      "GLPSOL--GLPK LP/MIP Solver 5.0\n",
      "Parameter(s) specified in the command line:\n",
      " --cpxlp Exercice2-pulp.lp -o Exercice2-pulp.sol\n",
      "Reading problem data from 'Exercice2-pulp.lp'...\n",
      "34 rows, 19 columns, 102 non-zeros\n",
      "40 lines were read\n",
      "GLPK Simplex Optimizer 5.0\n",
      "34 rows, 19 columns, 102 non-zeros\n",
      "Preprocessing...\n",
      "34 rows, 19 columns, 102 non-zeros\n",
      "Scaling...\n",
      " A: min|aij| =  1.000e+00  max|aij| =  1.240e+02  ratio =  1.240e+02\n",
      "GM: min|aij| =  4.099e-01  max|aij| =  2.440e+00  ratio =  5.952e+00\n",
      "EQ: min|aij| =  1.680e-01  max|aij| =  1.000e+00  ratio =  5.952e+00\n",
      "Constructing initial basis...\n",
      "Size of triangular part is 34\n",
      "      0: obj =   0.000000000e+00 inf =   9.210e+03 (17)\n",
      "     27: obj =   9.866566000e+03 inf =   1.421e-14 (0)\n",
      "*    30: obj =   8.663818023e+03 inf =   0.000e+00 (0)\n",
      "OPTIMAL LP SOLUTION FOUND\n",
      "Time used:   0.0 secs\n",
      "Memory used: 0.1 Mb (68353 bytes)\n",
      "Writing basic solution to 'Exercice2-pulp.sol'...\n",
      "Status: Optimal\n"
     ]
    }
   ],
   "source": [
    "exo2 = LpProblem(name=\"Exercice2\", sense=LpMinimize)\n",
    "n = len(data)\n",
    "z2 = LpVariable.matrix(\"z\", list(range(1,n+1)),lowBound=0)\n",
    "a2=LpVariable(\"a2\",  lowBound=0)\n",
    "b2=LpVariable(\"b2\",  lowBound=0)\n",
    "exo2 += lpSum(z2)\n",
    "for i in range(0,n):\n",
    "    exo2 += (z2[i] >= y2[i]-a2-b2*x2[i]) \n",
    "    exo2 += (z2[i] >= a2+b2*x2[i]-y2[i])\n",
    "status = exo2.solve(solver=GLPK(msg=True,keepFiles=True)) #keepFiles permet de créer un fichier .sol contenant la solution\n",
    "print(\"Status:\", LpStatus[exo2.status])"
   ]
  },
  {
   "cell_type": "code",
   "execution_count": 19,
   "id": "f0418556",
   "metadata": {},
   "outputs": [
    {
     "data": {
      "text/plain": [
       "[<matplotlib.lines.Line2D at 0x7f4c6b18caf0>]"
      ]
     },
     "execution_count": 19,
     "metadata": {},
     "output_type": "execute_result"
    },
    {
     "data": {
      "image/png": "[encoded data removed]",
      "text/plain": [
       "<Figure size 640x480 with 1 Axes>"
      ]
     },
     "metadata": {},
     "output_type": "display_data"
    }
   ],
   "source": [
    "fig_regression_mc(x2,y2)\n",
    "fig_nuage(x2,y2)\n",
    "fig_regression_mc(x2,y2)\n",
    "plt.plot(x,value(a2)+value(b2)*x,color=\"green\")"
   ]
  },
  {
   "cell_type": "code",
   "execution_count": 20,
   "id": "a3dc28b3",
   "metadata": {},
   "outputs": [],
   "source": [
    "#La droite LAD n'a pas ete touchee par la valeur aberrante car elle repose sur la valeur absolue"
   ]
  },
  {
   "cell_type": "code",
   "execution_count": 21,
   "id": "7d5e609f",
   "metadata": {},
   "outputs": [],
   "source": [
    "# exo2"
   ]
  },
  {
   "cell_type": "code",
   "execution_count": 22,
   "id": "a22834ad",
   "metadata": {},
   "outputs": [
    {
     "data": {
      "text/html": [
       "<div>\n",
       "<style scoped>\n",
       "    .dataframe tbody tr th:only-of-type {\n",
       "        vertical-align: middle;\n",
       "    }\n",
       "\n",
       "    .dataframe tbody tr th {\n",
       "        vertical-align: top;\n",
       "    }\n",
       "\n",
       "    .dataframe thead th {\n",
       "        text-align: right;\n",
       "    }\n",
       "</style>\n",
       "<table border=\"1\" class=\"dataframe\">\n",
       "  <thead>\n",
       "    <tr style=\"text-align: right;\">\n",
       "      <th></th>\n",
       "      <th>0</th>\n",
       "      <th>1</th>\n",
       "      <th>2</th>\n",
       "      <th>3</th>\n",
       "      <th>4</th>\n",
       "    </tr>\n",
       "  </thead>\n",
       "  <tbody>\n",
       "    <tr>\n",
       "      <th>0</th>\n",
       "      <td>3</td>\n",
       "      <td>6</td>\n",
       "      <td>2</td>\n",
       "      <td>8</td>\n",
       "      <td>3</td>\n",
       "    </tr>\n",
       "    <tr>\n",
       "      <th>1</th>\n",
       "      <td>7</td>\n",
       "      <td>7</td>\n",
       "      <td>11</td>\n",
       "      <td>14</td>\n",
       "      <td>15</td>\n",
       "    </tr>\n",
       "    <tr>\n",
       "      <th>2</th>\n",
       "      <td>11</td>\n",
       "      <td>11</td>\n",
       "      <td>23</td>\n",
       "      <td>33</td>\n",
       "      <td>19</td>\n",
       "    </tr>\n",
       "    <tr>\n",
       "      <th>3</th>\n",
       "      <td>15</td>\n",
       "      <td>12</td>\n",
       "      <td>26</td>\n",
       "      <td>34</td>\n",
       "      <td>27</td>\n",
       "    </tr>\n",
       "    <tr>\n",
       "      <th>4</th>\n",
       "      <td>21</td>\n",
       "      <td>16</td>\n",
       "      <td>12</td>\n",
       "      <td>5</td>\n",
       "      <td>23</td>\n",
       "    </tr>\n",
       "    <tr>\n",
       "      <th>5</th>\n",
       "      <td>23</td>\n",
       "      <td>17</td>\n",
       "      <td>16</td>\n",
       "      <td>10</td>\n",
       "      <td>23</td>\n",
       "    </tr>\n",
       "    <tr>\n",
       "      <th>6</th>\n",
       "      <td>28</td>\n",
       "      <td>22</td>\n",
       "      <td>22</td>\n",
       "      <td>15</td>\n",
       "      <td>31</td>\n",
       "    </tr>\n",
       "    <tr>\n",
       "      <th>7</th>\n",
       "      <td>31</td>\n",
       "      <td>16</td>\n",
       "      <td>28</td>\n",
       "      <td>24</td>\n",
       "      <td>39</td>\n",
       "    </tr>\n",
       "    <tr>\n",
       "      <th>8</th>\n",
       "      <td>38</td>\n",
       "      <td>21</td>\n",
       "      <td>34</td>\n",
       "      <td>31</td>\n",
       "      <td>47</td>\n",
       "    </tr>\n",
       "    <tr>\n",
       "      <th>9</th>\n",
       "      <td>39</td>\n",
       "      <td>27</td>\n",
       "      <td>27</td>\n",
       "      <td>8</td>\n",
       "      <td>51</td>\n",
       "    </tr>\n",
       "    <tr>\n",
       "      <th>10</th>\n",
       "      <td>42</td>\n",
       "      <td>24</td>\n",
       "      <td>31</td>\n",
       "      <td>16</td>\n",
       "      <td>47</td>\n",
       "    </tr>\n",
       "    <tr>\n",
       "      <th>11</th>\n",
       "      <td>49</td>\n",
       "      <td>32</td>\n",
       "      <td>40</td>\n",
       "      <td>25</td>\n",
       "      <td>51</td>\n",
       "    </tr>\n",
       "    <tr>\n",
       "      <th>12</th>\n",
       "      <td>57</td>\n",
       "      <td>29</td>\n",
       "      <td>42</td>\n",
       "      <td>21</td>\n",
       "      <td>55</td>\n",
       "    </tr>\n",
       "    <tr>\n",
       "      <th>13</th>\n",
       "      <td>68</td>\n",
       "      <td>36</td>\n",
       "      <td>35</td>\n",
       "      <td>9</td>\n",
       "      <td>63</td>\n",
       "    </tr>\n",
       "    <tr>\n",
       "      <th>14</th>\n",
       "      <td>71</td>\n",
       "      <td>42</td>\n",
       "      <td>39</td>\n",
       "      <td>15</td>\n",
       "      <td>67</td>\n",
       "    </tr>\n",
       "    <tr>\n",
       "      <th>15</th>\n",
       "      <td>89</td>\n",
       "      <td>51</td>\n",
       "      <td>51</td>\n",
       "      <td>23</td>\n",
       "      <td>71</td>\n",
       "    </tr>\n",
       "    <tr>\n",
       "      <th>16</th>\n",
       "      <td>95</td>\n",
       "      <td>53</td>\n",
       "      <td>60</td>\n",
       "      <td>29</td>\n",
       "      <td>71</td>\n",
       "    </tr>\n",
       "    <tr>\n",
       "      <th>17</th>\n",
       "      <td>97</td>\n",
       "      <td>55</td>\n",
       "      <td>68</td>\n",
       "      <td>40</td>\n",
       "      <td>75</td>\n",
       "    </tr>\n",
       "  </tbody>\n",
       "</table>\n",
       "</div>"
      ],
      "text/plain": [
       "     0   1   2   3   4\n",
       "0    3   6   2   8   3\n",
       "1    7   7  11  14  15\n",
       "2   11  11  23  33  19\n",
       "3   15  12  26  34  27\n",
       "4   21  16  12   5  23\n",
       "5   23  17  16  10  23\n",
       "6   28  22  22  15  31\n",
       "7   31  16  28  24  39\n",
       "8   38  21  34  31  47\n",
       "9   39  27  27   8  51\n",
       "10  42  24  31  16  47\n",
       "11  49  32  40  25  51\n",
       "12  57  29  42  21  55\n",
       "13  68  36  35   9  63\n",
       "14  71  42  39  15  67\n",
       "15  89  51  51  23  71\n",
       "16  95  53  60  29  71\n",
       "17  97  55  68  40  75"
      ]
     },
     "execution_count": 22,
     "metadata": {},
     "output_type": "execute_result"
    }
   ],
   "source": [
    "df = pd.read_csv(\"ozoneApprentissage.csv\", header=None)\n",
    "ozone = df.to_numpy()\n",
    "df"
   ]
  },
  {
   "cell_type": "code",
   "execution_count": 23,
   "id": "d6d0501d",
   "metadata": {},
   "outputs": [],
   "source": [
    "x1=ozone[:,0]\n",
    "x2=ozone[:,1]\n",
    "x3=ozone[:,2]\n",
    "x4=ozone[:,3]\n",
    "y3=ozone[:,4]\n",
    "x_ = df.iloc[:, :-1].to_numpy(dtype=\"float64\")\n",
    "y_ = df.iloc[:, -1].to_numpy(dtype=\"float64\")\n",
    "x_mean = [np.mean(x_[:, i]) for i in range(4)]\n",
    "x_ecart = [np.std(x_[:, i]) for i in range(4)]"
   ]
  },
  {
   "cell_type": "code",
   "execution_count": 24,
   "id": "8a7023f4",
   "metadata": {},
   "outputs": [
    {
     "data": {
      "text/plain": [
       "beta_0"
      ]
     },
     "execution_count": 24,
     "metadata": {},
     "output_type": "execute_result"
    }
   ],
   "source": [
    "exo3 = LpProblem(name=\"Exercice3\", sense=LpMinimize)\n",
    "n = len(ozone)\n",
    "z3 = LpVariable.matrix(\"z\", list(range(1,n+1)),lowBound=0)\n",
    "beta=LpVariable.matrix(\"beta\", list(range(5)), lowBound=0)\n",
    "beta[0]"
   ]
  },
  {
   "cell_type": "code",
   "execution_count": 25,
   "id": "2bc02209",
   "metadata": {},
   "outputs": [],
   "source": [
    "sigma=[]\n",
    "normalise=[]\n",
    "for i in range(4):\n",
    "    x_temp = ozone[:, i]\n",
    "    avg_x = np.mean(x_temp)\n",
    "    sigma.append(np.std(x_temp))\n",
    "    normalise.append((x_temp - avg_x)/sigma[i])\n",
    "sigma\n",
    "x_norm = np.transpose(normalise)"
   ]
  },
  {
   "cell_type": "code",
   "execution_count": 26,
   "id": "b2d4d1b3",
   "metadata": {},
   "outputs": [
    {
     "data": {
      "text/plain": [
       "array([[-1.38785276, -1.35822495, -1.78460428, -1.18239513],\n",
       "       [-1.25096866, -1.29197008, -1.24014874, -0.59119757],\n",
       "       [-1.11408455, -1.02695058, -0.51420801,  1.28092806],\n",
       "       [-0.97720044, -0.9606957 , -0.33272283,  1.37946099],\n",
       "       [-0.77187428, -0.6956762 , -1.17965368, -1.47799392],\n",
       "       [-0.70343222, -0.62942132, -0.93767344, -0.98532928],\n",
       "       [-0.53232709, -0.29814694, -0.57470307, -0.49266464],\n",
       "       [-0.42966401, -0.6956762 , -0.21173271,  0.39413171],\n",
       "       [-0.19011682, -0.36440182,  0.15123765,  1.08386221],\n",
       "       [-0.15589579,  0.03312744, -0.27222777, -1.18239513],\n",
       "       [-0.05323271, -0.16563719, -0.03024753, -0.39413171],\n",
       "       [ 0.18631448,  0.36440182,  0.51420801,  0.49266464],\n",
       "       [ 0.4600827 ,  0.16563719,  0.63519813,  0.09853293],\n",
       "       [ 0.83651399,  0.62942132,  0.21173271, -1.08386221],\n",
       "       [ 0.93917708,  1.02695058,  0.45371295, -0.49266464],\n",
       "       [ 1.55515556,  1.62324446,  1.17965368,  0.29559878],\n",
       "       [ 1.76048173,  1.75575421,  1.72410922,  0.88679635],\n",
       "       [ 1.82892378,  1.88826396,  2.2080697 ,  1.97065856]])"
      ]
     },
     "execution_count": 26,
     "metadata": {},
     "output_type": "execute_result"
    }
   ],
   "source": [
    "x_norm"
   ]
  },
  {
   "cell_type": "code",
   "execution_count": 27,
   "id": "09ffbe7b",
   "metadata": {},
   "outputs": [
    {
     "data": {
      "text/plain": [
       "array([-40.22222222, -28.22222222, -24.22222222, -16.22222222,\n",
       "       -20.22222222, -20.22222222, -12.22222222,  -4.22222222,\n",
       "         3.77777778,   7.77777778,   3.77777778,   7.77777778,\n",
       "        11.77777778,  19.77777778,  23.77777778,  27.77777778,\n",
       "        27.77777778,  31.77777778])"
      ]
     },
     "execution_count": 27,
     "metadata": {},
     "output_type": "execute_result"
    }
   ],
   "source": [
    "y_norm = y3 - np.mean(y3)\n",
    "y_norm"
   ]
  },
  {
   "cell_type": "code",
   "execution_count": 28,
   "id": "4ed2c805",
   "metadata": {},
   "outputs": [],
   "source": [
    "Exo3 = LpProblem(name=\"Exercice3\", sense=LpMinimize)\n",
    "n = len(ozone)\n",
    "z = LpVariable.matrix(\"z\", list(range(1,n+1)))\n",
    "beta=LpVariable.matrix(\"beta\", list(range(1,5)))"
   ]
  },
  {
   "cell_type": "code",
   "execution_count": 29,
   "id": "b654bde1",
   "metadata": {},
   "outputs": [
    {
     "name": "stdout",
     "output_type": "stream",
     "text": [
      "GLPSOL--GLPK LP/MIP Solver 5.0\n",
      "Parameter(s) specified in the command line:\n",
      " --cpxlp Exercice3-pulp.lp -o Exercice3-pulp.sol\n",
      "Reading problem data from 'Exercice3-pulp.lp'...\n",
      "36 rows, 22 columns, 180 non-zeros\n",
      "101 lines were read\n",
      "GLPK Simplex Optimizer 5.0\n",
      "36 rows, 22 columns, 180 non-zeros\n",
      "Preprocessing...\n",
      "36 rows, 22 columns, 180 non-zeros\n",
      "Scaling...\n",
      " A: min|aij| =  3.025e-02  max|aij| =  2.208e+00  ratio =  7.300e+01\n",
      "GM: min|aij| =  2.673e-01  max|aij| =  3.742e+00  ratio =  1.400e+01\n",
      "EQ: min|aij| =  7.143e-02  max|aij| =  1.000e+00  ratio =  1.400e+01\n",
      "Constructing initial basis...\n",
      "Size of triangular part is 36\n",
      "      0: obj =   0.000000000e+00 inf =   2.240e+02 (18)\n",
      "     23: obj =   1.120692105e+02 inf =   3.109e-15 (0)\n",
      "*    33: obj =   6.694888718e+01 inf =   0.000e+00 (0)\n",
      "OPTIMAL LP SOLUTION FOUND\n",
      "Time used:   0.0 secs\n",
      "Memory used: 0.1 Mb (96319 bytes)\n",
      "Writing basic solution to 'Exercice3-pulp.sol'...\n",
      "Status: Optimal\n",
      "objective:  66.948925\n"
     ]
    }
   ],
   "source": [
    "Exo3 += lpSum(z)\n",
    "for i in range(n):\n",
    "    Exo3 += z[i] >= y_norm[i] - lpSum(beta*x_norm[i])\n",
    "    Exo3 += z[i] >= -y_norm[i] + lpSum(beta*x_norm[i])\n",
    "status = Exo3.solve(solver=GLPK(msg=True,keepFiles=True)) \n",
    "print(\"Status:\", LpStatus[Exo3.status])\n",
    "print(\"objective: \",value(Exo3.objective))"
   ]
  },
  {
   "cell_type": "code",
   "execution_count": 30,
   "id": "fd5aa0ba",
   "metadata": {},
   "outputs": [
    {
     "data": {
      "text/plain": [
       "[0.3571751258180364,\n",
       " -0.6991545772658863,\n",
       " 1.5880800286341843,\n",
       " -0.7640322049228182]"
      ]
     },
     "execution_count": 30,
     "metadata": {},
     "output_type": "execute_result"
    }
   ],
   "source": [
    "#Deduction des Bj j!=0\n",
    "b_opti = [(value(beta[i])/sigma[i]) for i in range(4)]\n",
    "b_opti"
   ]
  },
  {
   "cell_type": "code",
   "execution_count": 31,
   "id": "8e5cace5",
   "metadata": {},
   "outputs": [
    {
     "data": {
      "text/plain": [
       "11.448980680617744"
      ]
     },
     "execution_count": 31,
     "metadata": {},
     "output_type": "execute_result"
    }
   ],
   "source": [
    "#B0\n",
    "b0 = np.mean(y3) - np.sum([value(beta[i])*np.mean(ozone[:,i])/sigma[i] for i in range(4)])\n",
    "b0"
   ]
  },
  {
   "cell_type": "code",
   "execution_count": 32,
   "id": "fc95058b",
   "metadata": {},
   "outputs": [
    {
     "name": "stdout",
     "output_type": "stream",
     "text": [
      "Erreur max =  10.45329281352857\n",
      "Erreur moyenne =  -6.710681393289835e-15\n"
     ]
    }
   ],
   "source": [
    "ecart = [y3[i]-b0 - np.sum([b_opti[j]*ozone[i][j] for j in range(4)]) for i in range(18)]\n",
    "ecart\n",
    "print(\"Erreur max = \",np.max(np.abs(ecart)))\n",
    "print(\"Erreur moyenne = \",np.mean(ecart))"
   ]
  },
  {
   "cell_type": "code",
   "execution_count": 33,
   "id": "5140f1db",
   "metadata": {},
   "outputs": [],
   "source": [
    "#2.2"
   ]
  },
  {
   "cell_type": "code",
   "execution_count": 34,
   "id": "41341d2f",
   "metadata": {},
   "outputs": [
    {
     "name": "stdout",
     "output_type": "stream",
     "text": [
      "Lambda =  0.0 Erreur max =  9.081439588577986    Erreur moyenne =  -6.710681393289835e-15\n",
      "Lambda =  0.1 Erreur max =  9.081439588577986    Erreur moyenne =  -6.710681393289835e-15\n",
      "Lambda =  0.2 Erreur max =  8.383786039128005    Erreur moyenne =  3.3553406966449175e-15\n",
      "Lambda =  0.30000000000000004 Erreur max =  8.383786039128005    Erreur moyenne =  3.3553406966449175e-15\n",
      "Lambda =  0.4 Erreur max =  8.383786039128005    Erreur moyenne =  3.3553406966449175e-15\n",
      "Lambda =  0.5 Erreur max =  9.100149875275285    Erreur moyenne =  1.973729821555834e-15\n",
      "Lambda =  0.6000000000000001 Erreur max =  9.100149875275285    Erreur moyenne =  1.973729821555834e-15\n",
      "Lambda =  0.7000000000000001 Erreur max =  9.100149875275285    Erreur moyenne =  1.973729821555834e-15\n",
      "Lambda =  0.8 Erreur max =  9.100149875275285    Erreur moyenne =  1.973729821555834e-15\n",
      "Lambda =  0.9 Erreur max =  10.514021461215627    Erreur moyenne =  -4.9343245538895844e-15\n",
      "Lambda =  1.0 Erreur max =  10.514021461215627    Erreur moyenne =  -4.9343245538895844e-15\n",
      "Lambda =  1.1 Erreur max =  10.514021461215627    Erreur moyenne =  -4.9343245538895844e-15\n",
      "Lambda =  1.2000000000000002 Erreur max =  11.77272452401477    Erreur moyenne =  2.1711028037114174e-15\n",
      "Lambda =  1.3 Erreur max =  11.77272452401477    Erreur moyenne =  2.1711028037114174e-15\n",
      "Lambda =  1.4000000000000001 Erreur max =  11.77272452401477    Erreur moyenne =  2.1711028037114174e-15\n",
      "Lambda =  1.5 Erreur max =  11.77272452401477    Erreur moyenne =  2.1711028037114174e-15\n",
      "Lambda =  1.6 Erreur max =  11.77272452401477    Erreur moyenne =  2.1711028037114174e-15\n",
      "Lambda =  1.7000000000000002 Erreur max =  11.77272452401477    Erreur moyenne =  2.1711028037114174e-15\n",
      "Lambda =  1.8 Erreur max =  11.77272452401477    Erreur moyenne =  2.1711028037114174e-15\n",
      "Lambda =  1.9000000000000001 Erreur max =  11.77272452401477    Erreur moyenne =  2.1711028037114174e-15\n",
      "Lambda =  2.0 Erreur max =  12.136582886138875    Erreur moyenne =  3.552713678800501e-15\n",
      "Lambda =  2.1 Erreur max =  12.136582886138875    Erreur moyenne =  3.552713678800501e-15\n",
      "Lambda =  2.2 Erreur max =  12.136582886138875    Erreur moyenne =  3.552713678800501e-15\n",
      "Lambda =  2.3000000000000003 Erreur max =  12.136582886138875    Erreur moyenne =  3.552713678800501e-15\n",
      "Lambda =  2.4000000000000004 Erreur max =  12.136582886138875    Erreur moyenne =  3.552713678800501e-15\n",
      "Lambda =  2.5 Erreur max =  12.136582886138875    Erreur moyenne =  3.552713678800501e-15\n",
      "Lambda =  2.6 Erreur max =  12.136582886138875    Erreur moyenne =  3.552713678800501e-15\n",
      "Lambda =  2.7 Erreur max =  12.136582886138875    Erreur moyenne =  3.552713678800501e-15\n",
      "Lambda =  2.8000000000000003 Erreur max =  11.026797170747553    Erreur moyenne =  6.41462192005646e-15\n",
      "Lambda =  2.9000000000000004 Erreur max =  11.026797170747553    Erreur moyenne =  6.41462192005646e-15\n",
      "Lambda =  3.0 Erreur max =  11.026797170747553    Erreur moyenne =  6.41462192005646e-15\n",
      "Lambda =  3.1 Erreur max =  11.026797170747553    Erreur moyenne =  6.41462192005646e-15\n",
      "Lambda =  3.2 Erreur max =  11.026797170747553    Erreur moyenne =  6.41462192005646e-15\n",
      "Lambda =  3.3000000000000003 Erreur max =  11.026797170747553    Erreur moyenne =  6.41462192005646e-15\n",
      "Lambda =  3.4000000000000004 Erreur max =  11.026797170747553    Erreur moyenne =  6.41462192005646e-15\n",
      "Lambda =  3.5 Erreur max =  11.026797170747553    Erreur moyenne =  6.41462192005646e-15\n",
      "Lambda =  3.6 Erreur max =  11.026797170747553    Erreur moyenne =  6.41462192005646e-15\n",
      "Lambda =  3.7 Erreur max =  11.026797170747553    Erreur moyenne =  6.41462192005646e-15\n",
      "Lambda =  3.8000000000000003 Erreur max =  11.026797170747553    Erreur moyenne =  6.41462192005646e-15\n",
      "Lambda =  3.9000000000000004 Erreur max =  11.026797170747553    Erreur moyenne =  6.41462192005646e-15\n",
      "Lambda =  4.0 Erreur max =  11.026797170747553    Erreur moyenne =  6.41462192005646e-15\n",
      "Lambda =  4.1000000000000005 Erreur max =  11.026797170747553    Erreur moyenne =  6.41462192005646e-15\n",
      "Lambda =  4.2 Erreur max =  11.026797170747553    Erreur moyenne =  6.41462192005646e-15\n",
      "Lambda =  4.3 Erreur max =  11.026797170747553    Erreur moyenne =  6.41462192005646e-15\n",
      "Lambda =  4.4 Erreur max =  11.026797170747553    Erreur moyenne =  6.41462192005646e-15\n",
      "Lambda =  4.5 Erreur max =  11.026797170747553    Erreur moyenne =  6.41462192005646e-15\n",
      "Lambda =  4.6000000000000005 Erreur max =  11.026797170747553    Erreur moyenne =  6.41462192005646e-15\n",
      "Lambda =  4.7 Erreur max =  11.026797170747553    Erreur moyenne =  6.41462192005646e-15\n",
      "Lambda =  4.800000000000001 Erreur max =  10.561540721560071    Erreur moyenne =  1.924386576016938e-15\n",
      "Lambda =  4.9 Erreur max =  10.561540721560071    Erreur moyenne =  1.924386576016938e-15\n",
      "Lambda =  5.0 Erreur max =  10.561540721560071    Erreur moyenne =  1.924386576016938e-15\n",
      "Lambda =  5.1000000000000005 Erreur max =  10.561540721560071    Erreur moyenne =  1.924386576016938e-15\n",
      "Lambda =  5.2 Erreur max =  10.561540721560071    Erreur moyenne =  1.924386576016938e-15\n",
      "Lambda =  5.300000000000001 Erreur max =  10.561540721560071    Erreur moyenne =  1.924386576016938e-15\n",
      "Lambda =  5.4 Erreur max =  10.561540721560071    Erreur moyenne =  1.924386576016938e-15\n",
      "Lambda =  5.5 Erreur max =  10.561540721560071    Erreur moyenne =  1.924386576016938e-15\n",
      "Lambda =  5.6000000000000005 Erreur max =  10.561540721560071    Erreur moyenne =  1.924386576016938e-15\n",
      "Lambda =  5.7 Erreur max =  10.561540721560071    Erreur moyenne =  1.924386576016938e-15\n",
      "Lambda =  5.800000000000001 Erreur max =  10.561540721560071    Erreur moyenne =  1.924386576016938e-15\n",
      "Lambda =  5.9 Erreur max =  10.561540721560071    Erreur moyenne =  1.924386576016938e-15\n",
      "Lambda =  6.0 Erreur max =  10.561540721560071    Erreur moyenne =  1.924386576016938e-15\n",
      "Lambda =  6.1000000000000005 Erreur max =  10.561540721560071    Erreur moyenne =  1.924386576016938e-15\n",
      "Lambda =  6.2 Erreur max =  10.561540721560071    Erreur moyenne =  1.924386576016938e-15\n",
      "Lambda =  6.300000000000001 Erreur max =  10.561540721560071    Erreur moyenne =  1.924386576016938e-15\n",
      "Lambda =  6.4 Erreur max =  10.561540721560071    Erreur moyenne =  1.924386576016938e-15\n",
      "Lambda =  6.5 Erreur max =  10.561540721560071    Erreur moyenne =  1.924386576016938e-15\n",
      "Lambda =  6.6000000000000005 Erreur max =  10.561540721560071    Erreur moyenne =  1.924386576016938e-15\n",
      "Lambda =  6.7 Erreur max =  10.561540721560071    Erreur moyenne =  1.924386576016938e-15\n",
      "Lambda =  6.800000000000001 Erreur max =  10.561540721560071    Erreur moyenne =  1.924386576016938e-15\n",
      "Lambda =  6.9 Erreur max =  10.561540721560071    Erreur moyenne =  1.924386576016938e-15\n",
      "Lambda =  7.0 Erreur max =  10.561540721560071    Erreur moyenne =  1.924386576016938e-15\n",
      "Lambda =  7.1000000000000005 Erreur max =  10.561540721560071    Erreur moyenne =  1.924386576016938e-15\n",
      "Lambda =  7.2 Erreur max =  10.561540721560071    Erreur moyenne =  1.924386576016938e-15\n",
      "Lambda =  7.300000000000001 Erreur max =  10.561540721560071    Erreur moyenne =  1.924386576016938e-15\n",
      "Lambda =  7.4 Erreur max =  10.561540721560071    Erreur moyenne =  1.924386576016938e-15\n",
      "Lambda =  7.5 Erreur max =  10.561540721560071    Erreur moyenne =  1.924386576016938e-15\n",
      "Lambda =  7.6000000000000005 Erreur max =  10.561540721560071    Erreur moyenne =  1.924386576016938e-15\n",
      "Lambda =  7.7 Erreur max =  10.561540721560071    Erreur moyenne =  1.924386576016938e-15\n",
      "Lambda =  7.800000000000001 Erreur max =  10.561540721560071    Erreur moyenne =  1.924386576016938e-15\n",
      "Lambda =  7.9 Erreur max =  10.561540721560071    Erreur moyenne =  1.924386576016938e-15\n",
      "Lambda =  8.0 Erreur max =  10.561540721560071    Erreur moyenne =  1.924386576016938e-15\n",
      "Lambda =  8.1 Erreur max =  10.561540721560071    Erreur moyenne =  1.924386576016938e-15\n",
      "Lambda =  8.200000000000001 Erreur max =  10.561540721560071    Erreur moyenne =  1.924386576016938e-15\n",
      "Lambda =  8.3 Erreur max =  10.561540721560071    Erreur moyenne =  1.924386576016938e-15\n",
      "Lambda =  8.4 Erreur max =  10.561540721560071    Erreur moyenne =  1.924386576016938e-15\n",
      "Lambda =  8.5 Erreur max =  10.561540721560071    Erreur moyenne =  1.924386576016938e-15\n",
      "Lambda =  8.6 Erreur max =  10.561540721560071    Erreur moyenne =  1.924386576016938e-15\n",
      "Lambda =  8.700000000000001 Erreur max =  10.561540721560071    Erreur moyenne =  1.924386576016938e-15\n",
      "Lambda =  8.8 Erreur max =  10.561540721560071    Erreur moyenne =  1.924386576016938e-15\n",
      "Lambda =  8.9 Erreur max =  10.561540721560071    Erreur moyenne =  1.924386576016938e-15\n",
      "Lambda =  9.0 Erreur max =  10.561540721560071    Erreur moyenne =  1.924386576016938e-15\n",
      "Lambda =  9.1 Erreur max =  10.561540721560071    Erreur moyenne =  1.924386576016938e-15\n",
      "Lambda =  9.200000000000001 Erreur max =  10.561540721560071    Erreur moyenne =  1.924386576016938e-15\n",
      "Lambda =  9.3 Erreur max =  10.561540721560071    Erreur moyenne =  1.924386576016938e-15\n",
      "Lambda =  9.4 Erreur max =  10.561540721560071    Erreur moyenne =  1.924386576016938e-15\n",
      "Lambda =  9.5 Erreur max =  10.561540721560071    Erreur moyenne =  1.924386576016938e-15\n",
      "Lambda =  9.600000000000001 Erreur max =  10.365757018448438    Erreur moyenne =  2.220446049250313e-15\n",
      "Lambda =  9.700000000000001 Erreur max =  10.365757018448438    Erreur moyenne =  2.220446049250313e-15\n",
      "Lambda =  9.8 Erreur max =  10.365757018448438    Erreur moyenne =  2.220446049250313e-15\n",
      "Lambda =  9.9 Erreur max =  10.365757018448438    Erreur moyenne =  2.220446049250313e-15\n",
      "Lambda =  10.0 Erreur max =  10.237579499929371    Erreur moyenne =  1.3322676295501878e-15\n",
      "Lambda =  10.100000000000001 Erreur max =  10.237579499929371    Erreur moyenne =  1.3322676295501878e-15\n",
      "Lambda =  10.200000000000001 Erreur max =  10.237579499929371    Erreur moyenne =  1.3322676295501878e-15\n",
      "Lambda =  10.3 Erreur max =  10.237579499929371    Erreur moyenne =  1.3322676295501878e-15\n",
      "Lambda =  10.4 Erreur max =  10.237579499929371    Erreur moyenne =  1.3322676295501878e-15\n",
      "Lambda =  10.5 Erreur max =  10.237579499929371    Erreur moyenne =  1.3322676295501878e-15\n",
      "Lambda =  10.600000000000001 Erreur max =  10.237579499929371    Erreur moyenne =  1.3322676295501878e-15\n",
      "Lambda =  10.700000000000001 Erreur max =  10.237579499929371    Erreur moyenne =  1.3322676295501878e-15\n"
     ]
    },
    {
     "name": "stdout",
     "output_type": "stream",
     "text": [
      "Lambda =  10.8 Erreur max =  10.237579499929371    Erreur moyenne =  1.3322676295501878e-15\n",
      "Lambda =  10.9 Erreur max =  10.237579499929371    Erreur moyenne =  1.3322676295501878e-15\n",
      "Lambda =  11.0 Erreur max =  10.237579499929371    Erreur moyenne =  1.3322676295501878e-15\n",
      "Lambda =  11.100000000000001 Erreur max =  10.237579499929371    Erreur moyenne =  1.3322676295501878e-15\n",
      "Lambda =  11.200000000000001 Erreur max =  10.237579499929371    Erreur moyenne =  1.3322676295501878e-15\n",
      "Lambda =  11.3 Erreur max =  10.237579499929371    Erreur moyenne =  1.3322676295501878e-15\n",
      "Lambda =  11.4 Erreur max =  10.237579499929371    Erreur moyenne =  1.3322676295501878e-15\n",
      "Lambda =  11.5 Erreur max =  10.237579499929371    Erreur moyenne =  1.3322676295501878e-15\n",
      "Lambda =  11.600000000000001 Erreur max =  10.237579499929371    Erreur moyenne =  1.3322676295501878e-15\n",
      "Lambda =  11.700000000000001 Erreur max =  10.237579499929371    Erreur moyenne =  1.3322676295501878e-15\n",
      "Lambda =  11.8 Erreur max =  10.237579499929371    Erreur moyenne =  1.3322676295501878e-15\n",
      "Lambda =  11.9 Erreur max =  10.237579499929371    Erreur moyenne =  1.3322676295501878e-15\n",
      "Lambda =  12.0 Erreur max =  10.237579499929371    Erreur moyenne =  1.3322676295501878e-15\n",
      "Lambda =  12.100000000000001 Erreur max =  10.237579499929371    Erreur moyenne =  1.3322676295501878e-15\n",
      "Lambda =  12.200000000000001 Erreur max =  10.237579499929371    Erreur moyenne =  1.3322676295501878e-15\n",
      "Lambda =  12.3 Erreur max =  10.237579499929371    Erreur moyenne =  1.3322676295501878e-15\n",
      "Lambda =  12.4 Erreur max =  10.237579499929371    Erreur moyenne =  1.3322676295501878e-15\n",
      "Lambda =  12.5 Erreur max =  10.237579499929371    Erreur moyenne =  1.3322676295501878e-15\n",
      "Lambda =  12.600000000000001 Erreur max =  10.237579499929371    Erreur moyenne =  1.3322676295501878e-15\n",
      "Lambda =  12.700000000000001 Erreur max =  10.237579499929371    Erreur moyenne =  1.3322676295501878e-15\n",
      "Lambda =  12.8 Erreur max =  10.237579499929371    Erreur moyenne =  1.3322676295501878e-15\n",
      "Lambda =  12.9 Erreur max =  10.237579499929371    Erreur moyenne =  1.3322676295501878e-15\n",
      "Lambda =  13.0 Erreur max =  10.237579499929371    Erreur moyenne =  1.3322676295501878e-15\n",
      "Lambda =  13.100000000000001 Erreur max =  10.237579499929371    Erreur moyenne =  1.3322676295501878e-15\n",
      "Lambda =  13.200000000000001 Erreur max =  10.237579499929371    Erreur moyenne =  1.3322676295501878e-15\n",
      "Lambda =  13.3 Erreur max =  10.237579499929371    Erreur moyenne =  1.3322676295501878e-15\n",
      "Lambda =  13.4 Erreur max =  10.237579499929371    Erreur moyenne =  1.3322676295501878e-15\n",
      "Lambda =  13.5 Erreur max =  14.548672485348984    Erreur moyenne =  2.565848768022584e-15\n",
      "Lambda =  13.600000000000001 Erreur max =  14.548672485348984    Erreur moyenne =  2.565848768022584e-15\n",
      "Lambda =  13.700000000000001 Erreur max =  14.548672485348984    Erreur moyenne =  2.565848768022584e-15\n",
      "Lambda =  13.8 Erreur max =  14.548672485348984    Erreur moyenne =  2.565848768022584e-15\n",
      "Lambda =  13.9 Erreur max =  14.548672485348984    Erreur moyenne =  2.565848768022584e-15\n",
      "Lambda =  14.0 Erreur max =  14.548672485348984    Erreur moyenne =  2.565848768022584e-15\n",
      "Lambda =  14.100000000000001 Erreur max =  14.548672485348984    Erreur moyenne =  2.565848768022584e-15\n",
      "Lambda =  14.200000000000001 Erreur max =  14.548672485348984    Erreur moyenne =  2.565848768022584e-15\n",
      "Lambda =  14.3 Erreur max =  14.548672485348984    Erreur moyenne =  2.565848768022584e-15\n",
      "Lambda =  14.4 Erreur max =  31.77777777777778    Erreur moyenne =  7.894919286223335e-16\n",
      "Lambda =  14.5 Erreur max =  31.77777777777778    Erreur moyenne =  7.894919286223335e-16\n",
      "Lambda =  14.600000000000001 Erreur max =  31.77777777777778    Erreur moyenne =  7.894919286223335e-16\n",
      "Lambda =  14.700000000000001 Erreur max =  31.77777777777778    Erreur moyenne =  7.894919286223335e-16\n",
      "Lambda =  14.8 Erreur max =  31.77777777777778    Erreur moyenne =  7.894919286223335e-16\n",
      "Lambda =  14.9 Erreur max =  31.77777777777778    Erreur moyenne =  7.894919286223335e-16\n",
      "Lambda =  15.0 Erreur max =  31.77777777777778    Erreur moyenne =  7.894919286223335e-16\n",
      "Lambda =  15.100000000000001 Erreur max =  31.77777777777778    Erreur moyenne =  7.894919286223335e-16\n",
      "Lambda =  15.200000000000001 Erreur max =  31.77777777777778    Erreur moyenne =  7.894919286223335e-16\n",
      "Lambda =  15.3 Erreur max =  31.77777777777778    Erreur moyenne =  7.894919286223335e-16\n",
      "Lambda =  15.4 Erreur max =  31.77777777777778    Erreur moyenne =  7.894919286223335e-16\n",
      "Lambda =  15.5 Erreur max =  31.77777777777778    Erreur moyenne =  7.894919286223335e-16\n",
      "Lambda =  15.600000000000001 Erreur max =  31.77777777777778    Erreur moyenne =  7.894919286223335e-16\n",
      "Lambda =  15.700000000000001 Erreur max =  31.77777777777778    Erreur moyenne =  7.894919286223335e-16\n",
      "Lambda =  15.8 Erreur max =  31.77777777777778    Erreur moyenne =  7.894919286223335e-16\n",
      "Lambda =  15.9 Erreur max =  31.77777777777778    Erreur moyenne =  7.894919286223335e-16\n",
      "Lambda =  16.0 Erreur max =  31.77777777777778    Erreur moyenne =  7.894919286223335e-16\n",
      "Lambda =  16.1 Erreur max =  31.77777777777778    Erreur moyenne =  7.894919286223335e-16\n",
      "Lambda =  16.2 Erreur max =  31.77777777777778    Erreur moyenne =  7.894919286223335e-16\n",
      "Lambda =  16.3 Erreur max =  31.77777777777778    Erreur moyenne =  7.894919286223335e-16\n",
      "Lambda =  16.400000000000002 Erreur max =  31.77777777777778    Erreur moyenne =  7.894919286223335e-16\n",
      "Lambda =  16.5 Erreur max =  31.77777777777778    Erreur moyenne =  7.894919286223335e-16\n",
      "Lambda =  16.6 Erreur max =  31.77777777777778    Erreur moyenne =  7.894919286223335e-16\n",
      "Lambda =  16.7 Erreur max =  31.77777777777778    Erreur moyenne =  7.894919286223335e-16\n",
      "Lambda =  16.8 Erreur max =  31.77777777777778    Erreur moyenne =  7.894919286223335e-16\n",
      "Lambda =  16.900000000000002 Erreur max =  31.77777777777778    Erreur moyenne =  7.894919286223335e-16\n",
      "Lambda =  17.0 Erreur max =  31.77777777777778    Erreur moyenne =  7.894919286223335e-16\n",
      "Lambda =  17.1 Erreur max =  31.77777777777778    Erreur moyenne =  7.894919286223335e-16\n",
      "Lambda =  17.2 Erreur max =  31.77777777777778    Erreur moyenne =  7.894919286223335e-16\n",
      "Lambda =  17.3 Erreur max =  31.77777777777778    Erreur moyenne =  7.894919286223335e-16\n",
      "Lambda =  17.400000000000002 Erreur max =  31.77777777777778    Erreur moyenne =  7.894919286223335e-16\n",
      "Lambda =  17.5 Erreur max =  31.77777777777778    Erreur moyenne =  7.894919286223335e-16\n",
      "Lambda =  17.6 Erreur max =  31.77777777777778    Erreur moyenne =  7.894919286223335e-16\n",
      "Lambda =  17.7 Erreur max =  31.77777777777778    Erreur moyenne =  7.894919286223335e-16\n",
      "Lambda =  17.8 Erreur max =  31.77777777777778    Erreur moyenne =  7.894919286223335e-16\n",
      "Lambda =  17.900000000000002 Erreur max =  31.77777777777778    Erreur moyenne =  7.894919286223335e-16\n",
      "Lambda =  18.0 Erreur max =  31.77777777777778    Erreur moyenne =  7.894919286223335e-16\n",
      "Lambda =  18.1 Erreur max =  31.77777777777778    Erreur moyenne =  7.894919286223335e-16\n",
      "Lambda =  18.2 Erreur max =  31.77777777777778    Erreur moyenne =  7.894919286223335e-16\n",
      "Lambda =  18.3 Erreur max =  31.77777777777778    Erreur moyenne =  7.894919286223335e-16\n",
      "Lambda =  18.400000000000002 Erreur max =  31.77777777777778    Erreur moyenne =  7.894919286223335e-16\n",
      "Lambda =  18.5 Erreur max =  31.77777777777778    Erreur moyenne =  7.894919286223335e-16\n",
      "Lambda =  18.6 Erreur max =  31.77777777777778    Erreur moyenne =  7.894919286223335e-16\n",
      "Lambda =  18.7 Erreur max =  31.77777777777778    Erreur moyenne =  7.894919286223335e-16\n",
      "Lambda =  18.8 Erreur max =  31.77777777777778    Erreur moyenne =  7.894919286223335e-16\n",
      "Lambda =  18.900000000000002 Erreur max =  31.77777777777778    Erreur moyenne =  7.894919286223335e-16\n",
      "Lambda =  19.0 Erreur max =  31.77777777777778    Erreur moyenne =  7.894919286223335e-16\n",
      "Lambda =  19.1 Erreur max =  31.77777777777778    Erreur moyenne =  7.894919286223335e-16\n",
      "Lambda =  19.200000000000003 Erreur max =  31.77777777777778    Erreur moyenne =  7.894919286223335e-16\n",
      "Lambda =  19.3 Erreur max =  31.77777777777778    Erreur moyenne =  7.894919286223335e-16\n",
      "Lambda =  19.400000000000002 Erreur max =  31.77777777777778    Erreur moyenne =  7.894919286223335e-16\n",
      "Lambda =  19.5 Erreur max =  31.77777777777778    Erreur moyenne =  7.894919286223335e-16\n",
      "Lambda =  19.6 Erreur max =  31.77777777777778    Erreur moyenne =  7.894919286223335e-16\n",
      "Lambda =  19.700000000000003 Erreur max =  31.77777777777778    Erreur moyenne =  7.894919286223335e-16\n",
      "Lambda =  19.8 Erreur max =  31.77777777777778    Erreur moyenne =  7.894919286223335e-16\n",
      "Lambda =  19.900000000000002 Erreur max =  31.77777777777778    Erreur moyenne =  7.894919286223335e-16\n",
      "Lambda =  20.0 Erreur max =  31.77777777777778    Erreur moyenne =  7.894919286223335e-16\n",
      "Lambda =  20.1 Erreur max =  31.77777777777778    Erreur moyenne =  7.894919286223335e-16\n",
      "Lambda =  20.200000000000003 Erreur max =  31.77777777777778    Erreur moyenne =  7.894919286223335e-16\n",
      "Lambda =  20.3 Erreur max =  31.77777777777778    Erreur moyenne =  7.894919286223335e-16\n",
      "Lambda =  20.400000000000002 Erreur max =  31.77777777777778    Erreur moyenne =  7.894919286223335e-16\n",
      "Lambda =  20.5 Erreur max =  31.77777777777778    Erreur moyenne =  7.894919286223335e-16\n",
      "Lambda =  20.6 Erreur max =  31.77777777777778    Erreur moyenne =  7.894919286223335e-16\n",
      "Lambda =  20.700000000000003 Erreur max =  31.77777777777778    Erreur moyenne =  7.894919286223335e-16\n",
      "Lambda =  20.8 Erreur max =  31.77777777777778    Erreur moyenne =  7.894919286223335e-16\n",
      "Lambda =  20.900000000000002 Erreur max =  31.77777777777778    Erreur moyenne =  7.894919286223335e-16\n"
     ]
    }
   ],
   "source": [
    "list_erreur_max = []\n",
    "list_erreur_moyenne = []\n",
    "\n",
    "#on a x_norm et y_norm deja normalisees\n",
    "for lmbda in np.arange(0, 21, 0.1):\n",
    "    exo_lasso = LpProblem(name=\"Ozone_LASSO\", sense=LpMinimize)\n",
    "    z = LpVariable.matrix(\"z\", list(range(1, len(x_norm)+1)))\n",
    "    \n",
    "\n",
    "    b = LpVariable.matrix(\"b\", list(range(1, 5)))\n",
    "    \n",
    "    betas = LpVariable.matrix(\"betas\", list(range(1, 5)))\n",
    "    \n",
    "    exo_lasso += (lpSum(z) + lmbda * lpSum(b))\n",
    "    \n",
    "    for i in range(len(x_norm)):\n",
    "        exo_lasso += z[i] >= y_norm[i] - lpSum(betas * x_norm[i])\n",
    "        exo_lasso += z[i] >= -y_norm[i] + lpSum(betas * x_norm[i])\n",
    "    \n",
    "   \n",
    "    for j in range(4):\n",
    "        exo_lasso += b[j] >= betas[j]\n",
    "        exo_lasso += b[j] >= -betas[j]\n",
    "    \n",
    "    \n",
    "    status = exo_lasso.solve(solver=GLPK(msg=False,keepFiles=False))\n",
    "    \n",
    "    #valeurs des betas (pas beta 0)\n",
    "    betas_opti = [value(betas[i]) / x_ecart[i] for i in range(4)]\n",
    "    #valeur beta 0\n",
    "    beta0 = np.mean(y3) - np.sum([value(betas[i]) * x_mean[i] / x_ecart[i]  for i in range(4)])\n",
    "    ecart = [y3[i] - beta0 - np.sum([betas_opti[j] * ozone[i][j] for j in range(4)]) for i in range(18)]\n",
    "    print(\"Lambda = \", lmbda, \"Erreur max = \", np.max(ecart), \"   Erreur moyenne = \", np.mean(ecart))\n",
    "    \n",
    "    list_erreur_max.append(np.max(ecart))\n",
    "    list_erreur_moyenne.append(np.mean(ecart))"
   ]
  },
  {
   "cell_type": "code",
   "execution_count": 35,
   "id": "d9a782fa",
   "metadata": {},
   "outputs": [
    {
     "data": {
      "text/plain": [
       "[<matplotlib.lines.Line2D at 0x7f4c6b050340>]"
      ]
     },
     "execution_count": 35,
     "metadata": {},
     "output_type": "execute_result"
    },
    {
     "data": {
      "image/png": "[encoded data removed]",
      "text/plain": [
       "<Figure size 640x480 with 1 Axes>"
      ]
     },
     "metadata": {},
     "output_type": "display_data"
    }
   ],
   "source": [
    "plt.plot(np.arange(0, 21, 0.1), list_erreur_max)"
   ]
  },
  {
   "cell_type": "code",
   "execution_count": 36,
   "id": "87bd3b2e",
   "metadata": {},
   "outputs": [
    {
     "data": {
      "text/plain": [
       "[<matplotlib.lines.Line2D at 0x7f4c6aec85e0>]"
      ]
     },
     "execution_count": 36,
     "metadata": {},
     "output_type": "execute_result"
    },
    {
     "data": {
      "image/png": "[encoded data removed]",
      "text/plain": [
       "<Figure size 640x480 with 1 Axes>"
      ]
     },
     "metadata": {},
     "output_type": "display_data"
    }
   ],
   "source": [
    "plt.plot(np.arange(0, 21, 0.1), list_erreur_moyenne)"
   ]
  },
  {
   "cell_type": "code",
   "execution_count": 37,
   "id": "f301ef18",
   "metadata": {},
   "outputs": [
    {
     "data": {
      "text/plain": [
       "(17.419385498967372, 1.842382801288011e-15)"
      ]
     },
     "execution_count": 37,
     "metadata": {},
     "output_type": "execute_result"
    }
   ],
   "source": [
    "np.mean(list_erreur_max), np.mean(list_erreur_moyenne)"
   ]
  },
  {
   "cell_type": "code",
   "execution_count": 38,
   "id": "7d987566",
   "metadata": {},
   "outputs": [
    {
     "data": {
      "text/plain": [
       "(10.237579499929371, 1.3322676295501878e-15)"
      ]
     },
     "execution_count": 38,
     "metadata": {},
     "output_type": "execute_result"
    }
   ],
   "source": [
    "list_erreur_max[100], list_erreur_moyenne[100]"
   ]
  },
  {
   "cell_type": "code",
   "execution_count": 39,
   "id": "b1bb25e1",
   "metadata": {},
   "outputs": [],
   "source": [
    "#pour lmbda = 10 on a une erreur moyenne = 1.33 et une erreur max = 10 qui se rapproche de la moyenne de toute les erreurs moyenne, et la moyenne de toute les erreurs maximales"
   ]
  },
  {
   "cell_type": "code",
   "execution_count": 40,
   "id": "e95270d3",
   "metadata": {},
   "outputs": [
    {
     "name": "stdout",
     "output_type": "stream",
     "text": [
      "Lambda = 10 Erreur max =  10.237579499929371    Erreur moyenne =  1.3322676295501878e-15\n"
     ]
    }
   ],
   "source": [
    "#pour lambda 10\n",
    "exo_lasso_10 = LpProblem(name=\"Ozone_LASSO_10\", sense=LpMinimize)\n",
    "z = LpVariable.matrix(\"z\", list(range(1, len(x_norm)+1)))\n",
    "    \n",
    "\n",
    "b = LpVariable.matrix(\"b\", list(range(1, 5)))\n",
    "    \n",
    "betas = LpVariable.matrix(\"betas\", list(range(1, 5)))\n",
    "    \n",
    "exo_lasso_10 += (lpSum(z) + 10 * lpSum(b))\n",
    "    \n",
    "for i in range(len(x_norm)):\n",
    "        exo_lasso_10 += z[i] >= y_norm[i] - lpSum(betas * x_norm[i])\n",
    "        exo_lasso_10 += z[i] >= -y_norm[i] + lpSum(betas * x_norm[i])\n",
    "    \n",
    "   \n",
    "for j in range(4):\n",
    "    exo_lasso_10 += b[j] >= betas[j]\n",
    "    exo_lasso_10 += b[j] >= -betas[j]\n",
    "    \n",
    "    \n",
    "status = exo_lasso_10.solve(solver=GLPK(msg=False,keepFiles=False))\n",
    "    \n",
    "#valeurs des betas (pas beta 0)\n",
    "betas_opti = [value(betas[i]) / x_ecart[i] for i in range(4)]\n",
    "#valeur beta 0\n",
    "beta0 = np.mean(y3) - np.sum([value(betas[i]) * x_mean[i] / x_ecart[i]  for i in range(4)])\n",
    "ecart = [y3[i] - beta0 - np.sum([betas_opti[j] * ozone[i][j] for j in range(4)]) for i in range(18)]\n",
    "print(\"Lambda = 10\", \"Erreur max = \", np.max(ecart), \"   Erreur moyenne = \", np.mean(ecart))\n",
    "    \n",
    "    "
   ]
  },
  {
   "cell_type": "code",
   "execution_count": 41,
   "id": "c210198d",
   "metadata": {},
   "outputs": [
    {
     "data": {
      "text/plain": [
       "(array([[57,  7, 40, 33],\n",
       "        [11, 32, 31, 24],\n",
       "        [23, 24, 27, 25],\n",
       "        [28, 21, 34, 15],\n",
       "        [11, 12, 23, 31],\n",
       "        [39, 17, 16,  8],\n",
       "        [57, 29, 68, 29],\n",
       "        [28, 32,  2, 15],\n",
       "        [ 7,  6, 31,  9],\n",
       "        [57, 17, 68, 40],\n",
       "        [ 3, 32, 16,  8],\n",
       "        [97, 42, 40, 21],\n",
       "        [57, 16, 35, 23],\n",
       "        [71, 42, 60, 40],\n",
       "        [ 7, 21, 22, 10],\n",
       "        [23, 27, 11,  5],\n",
       "        [31, 16, 31, 23],\n",
       "        [42, 21, 23, 29]]),\n",
       " array([ 3, 15, 19, 27, 23, 23, 31, 39, 47, 51, 47, 51, 55, 63, 67, 71, 71,\n",
       "        75]))"
      ]
     },
     "execution_count": 41,
     "metadata": {},
     "output_type": "execute_result"
    }
   ],
   "source": [
    "test = pd.read_csv(\"ozoneTest.csv\", header=None)\n",
    "\n",
    "x_test = test.iloc[:, :-1].to_numpy()\n",
    "y_test = df.iloc[:, -1].to_numpy()\n",
    "x_test,y_test"
   ]
  },
  {
   "cell_type": "code",
   "execution_count": 42,
   "id": "6c19ca20",
   "metadata": {},
   "outputs": [
    {
     "data": {
      "text/plain": [
       "array([50.48163706, 25.64363918, 32.12311689, 34.82289927, 25.64363918,\n",
       "       40.7624205 , 50.48163706, 34.82289927, 23.48381328, 50.48163706,\n",
       "       21.32398738, 72.07989608, 50.48163706, 58.04102772, 23.48381328,\n",
       "       32.12311689, 36.4427687 , 42.38228993])"
      ]
     },
     "execution_count": 42,
     "metadata": {},
     "output_type": "execute_result"
    }
   ],
   "source": [
    "y_pred = np.array([beta0 + np.sum([value(betas_opti[j]) * x_test[i][j] for j in range(4)]) for i in range(len(x_norm))])\n",
    "y_pred"
   ]
  },
  {
   "cell_type": "code",
   "execution_count": 43,
   "id": "ddf2f9cd",
   "metadata": {},
   "outputs": [
    {
     "data": {
      "text/plain": [
       "array([-1.83731088, -0.41185762, -0.50780148, -0.30270856, -0.10229612,\n",
       "       -0.6873202 , -0.75384561,  0.1616337 ,  0.90996327,  0.02005815,\n",
       "        0.99353814, -0.81569054,  0.1748389 ,  0.19188837,  1.68386703,\n",
       "        1.5043483 ,  1.33719857,  1.26214843])"
      ]
     },
     "execution_count": 43,
     "metadata": {},
     "output_type": "execute_result"
    }
   ],
   "source": [
    "Sr = np.sum((y_test - y_pred)**2)\n",
    "residu_norm = (y_test-y_pred)/np.sqrt(Sr/(len(x_test) - 2))\n",
    "residu_norm"
   ]
  },
  {
   "cell_type": "code",
   "execution_count": 44,
   "id": "cac66cd4",
   "metadata": {},
   "outputs": [
    {
     "data": {
      "text/plain": [
       "<matplotlib.collections.PathCollection at 0x7f4c6af35db0>"
      ]
     },
     "execution_count": 44,
     "metadata": {},
     "output_type": "execute_result"
    },
    {
     "data": {
      "image/png": "[encoded data removed]",
      "text/plain": [
       "<Figure size 640x480 with 1 Axes>"
      ]
     },
     "metadata": {},
     "output_type": "display_data"
    }
   ],
   "source": [
    "plt.scatter(x_test[:, 0], residu_norm)\n",
    "plt.scatter(x_test[:, 1], residu_norm)\n",
    "plt.scatter(x_test[:, 2], residu_norm)\n",
    "plt.scatter(x_test[:, 3], residu_norm)"
   ]
  },
  {
   "cell_type": "code",
   "execution_count": 45,
   "id": "fb740c4f",
   "metadata": {},
   "outputs": [],
   "source": [
    "#les residus sont places aleatoirement, le modele est valide"
   ]
  },
  {
   "cell_type": "code",
   "execution_count": null,
   "id": "e1084df4",
   "metadata": {},
   "outputs": [],
   "source": []
  }
 ],
 "metadata": {
  "kernelspec": {
   "display_name": "Python 3 (ipykernel)",
   "language": "python",
   "name": "python3"
  },
  "language_info": {
   "codemirror_mode": {
    "name": "ipython",
    "version": 3
   },
   "file_extension": ".py",
   "mimetype": "text/x-python",
   "name": "python",
   "nbconvert_exporter": "python",
   "pygments_lexer": "ipython3",
   "version": "3.10.12"
  }
 },
 "nbformat": 4,
 "nbformat_minor": 5
}
