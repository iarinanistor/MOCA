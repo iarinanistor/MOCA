{
 "cells": [
  {
   "cell_type": "code",
   "execution_count": 1,
   "id": "fe2fa3e3",
   "metadata": {},
   "outputs": [],
   "source": [
    "import pandas as pd\n",
    "import numpy as np\n",
    "from numpy import linalg\n",
    "import matplotlib.pyplot as plt\n"
   ]
  },
  {
   "cell_type": "code",
   "execution_count": 2,
   "id": "05144d25",
   "metadata": {},
   "outputs": [],
   "source": [
    "#NISTOR Iarina 21210925"
   ]
  },
  {
   "cell_type": "code",
   "execution_count": 3,
   "id": "3569dd0f",
   "metadata": {},
   "outputs": [
    {
     "data": {
      "text/html": [
       "<div>\n",
       "<style scoped>\n",
       "    .dataframe tbody tr th:only-of-type {\n",
       "        vertical-align: middle;\n",
       "    }\n",
       "\n",
       "    .dataframe tbody tr th {\n",
       "        vertical-align: top;\n",
       "    }\n",
       "\n",
       "    .dataframe thead th {\n",
       "        text-align: right;\n",
       "    }\n",
       "</style>\n",
       "<table border=\"1\" class=\"dataframe\">\n",
       "  <thead>\n",
       "    <tr style=\"text-align: right;\">\n",
       "      <th></th>\n",
       "      <th>0</th>\n",
       "      <th>1</th>\n",
       "      <th>2</th>\n",
       "    </tr>\n",
       "  </thead>\n",
       "  <tbody>\n",
       "    <tr>\n",
       "      <th>0</th>\n",
       "      <td>Australia</td>\n",
       "      <td>17.3</td>\n",
       "      <td>327.4</td>\n",
       "    </tr>\n",
       "    <tr>\n",
       "      <th>1</th>\n",
       "      <td>Austria</td>\n",
       "      <td>7.7</td>\n",
       "      <td>179.5</td>\n",
       "    </tr>\n",
       "    <tr>\n",
       "      <th>2</th>\n",
       "      <td>Belgium</td>\n",
       "      <td>10.4</td>\n",
       "      <td>279.4</td>\n",
       "    </tr>\n",
       "    <tr>\n",
       "      <th>3</th>\n",
       "      <td>Denmark</td>\n",
       "      <td>5.1</td>\n",
       "      <td>139.1</td>\n",
       "    </tr>\n",
       "    <tr>\n",
       "      <th>4</th>\n",
       "      <td>Finland</td>\n",
       "      <td>5.0</td>\n",
       "      <td>92.5</td>\n",
       "    </tr>\n",
       "    <tr>\n",
       "      <th>5</th>\n",
       "      <td>France</td>\n",
       "      <td>56.9</td>\n",
       "      <td>926.7</td>\n",
       "    </tr>\n",
       "    <tr>\n",
       "      <th>6</th>\n",
       "      <td>Germany</td>\n",
       "      <td>79.7</td>\n",
       "      <td>2186.3</td>\n",
       "    </tr>\n",
       "    <tr>\n",
       "      <th>7</th>\n",
       "      <td>Ireland</td>\n",
       "      <td>3.5</td>\n",
       "      <td>96.8</td>\n",
       "    </tr>\n",
       "    <tr>\n",
       "      <th>8</th>\n",
       "      <td>Italy</td>\n",
       "      <td>57.8</td>\n",
       "      <td>523.9</td>\n",
       "    </tr>\n",
       "    <tr>\n",
       "      <th>9</th>\n",
       "      <td>Japan</td>\n",
       "      <td>124.0</td>\n",
       "      <td>935.9</td>\n",
       "    </tr>\n",
       "    <tr>\n",
       "      <th>10</th>\n",
       "      <td>Netherland</td>\n",
       "      <td>15.1</td>\n",
       "      <td>444.2</td>\n",
       "    </tr>\n",
       "    <tr>\n",
       "      <th>11</th>\n",
       "      <td>Norway</td>\n",
       "      <td>4.3</td>\n",
       "      <td>119.7</td>\n",
       "    </tr>\n",
       "    <tr>\n",
       "      <th>12</th>\n",
       "      <td>Spain</td>\n",
       "      <td>39.0</td>\n",
       "      <td>300.7</td>\n",
       "    </tr>\n",
       "    <tr>\n",
       "      <th>13</th>\n",
       "      <td>Sweden</td>\n",
       "      <td>8.7</td>\n",
       "      <td>201.9</td>\n",
       "    </tr>\n",
       "    <tr>\n",
       "      <th>14</th>\n",
       "      <td>Switzerland</td>\n",
       "      <td>6.9</td>\n",
       "      <td>194.7</td>\n",
       "    </tr>\n",
       "    <tr>\n",
       "      <th>15</th>\n",
       "      <td>United-Kingdom</td>\n",
       "      <td>57.7</td>\n",
       "      <td>1592.9</td>\n",
       "    </tr>\n",
       "    <tr>\n",
       "      <th>16</th>\n",
       "      <td>United-States</td>\n",
       "      <td>252.7</td>\n",
       "      <td>5142.2</td>\n",
       "    </tr>\n",
       "  </tbody>\n",
       "</table>\n",
       "</div>"
      ],
      "text/plain": [
       "                 0      1       2\n",
       "0        Australia   17.3   327.4\n",
       "1          Austria    7.7   179.5\n",
       "2          Belgium   10.4   279.4\n",
       "3          Denmark    5.1   139.1\n",
       "4          Finland    5.0    92.5\n",
       "5           France   56.9   926.7\n",
       "6          Germany   79.7  2186.3\n",
       "7          Ireland    3.5    96.8\n",
       "8            Italy   57.8   523.9\n",
       "9            Japan  124.0   935.9\n",
       "10      Netherland   15.1   444.2\n",
       "11          Norway    4.3   119.7\n",
       "12           Spain   39.0   300.7\n",
       "13          Sweden    8.7   201.9\n",
       "14     Switzerland    6.9   194.7\n",
       "15  United-Kingdom   57.7  1592.9\n",
       "16   United-States  252.7  5142.2"
      ]
     },
     "execution_count": 3,
     "metadata": {},
     "output_type": "execute_result"
    }
   ],
   "source": [
    "dt = pd.read_csv('confiserie.csv',header=None)\n",
    "dt"
   ]
  },
  {
   "cell_type": "code",
   "execution_count": 4,
   "id": "38855f33",
   "metadata": {},
   "outputs": [
    {
     "data": {
      "text/plain": [
       "array([['Australia', 17.3, 327.4],\n",
       "       ['Austria', 7.7, 179.5],\n",
       "       ['Belgium', 10.4, 279.4],\n",
       "       ['Denmark', 5.1, 139.1],\n",
       "       ['Finland', 5.0, 92.5],\n",
       "       ['France', 56.9, 926.7],\n",
       "       ['Germany', 79.7, 2186.3],\n",
       "       ['Ireland', 3.5, 96.8],\n",
       "       ['Italy', 57.8, 523.9],\n",
       "       ['Japan', 124.0, 935.9],\n",
       "       ['Netherland', 15.1, 444.2],\n",
       "       ['Norway', 4.3, 119.7],\n",
       "       ['Spain', 39.0, 300.7],\n",
       "       ['Sweden', 8.7, 201.9],\n",
       "       ['Switzerland', 6.9, 194.7],\n",
       "       ['United-Kingdom', 57.7, 1592.9],\n",
       "       ['United-States', 252.7, 5142.2]], dtype=object)"
      ]
     },
     "execution_count": 4,
     "metadata": {},
     "output_type": "execute_result"
    }
   ],
   "source": [
    "data = dt.to_numpy()\n",
    "data"
   ]
  },
  {
   "cell_type": "code",
   "execution_count": 5,
   "id": "db30e3f5",
   "metadata": {},
   "outputs": [
    {
     "data": {
      "text/plain": [
       "(array([17.3, 7.7, 10.4, 5.1, 5.0, 56.9, 79.7, 3.5, 57.8, 124.0, 15.1, 4.3,\n",
       "        39.0, 8.7, 6.9, 57.7, 252.7], dtype=object),\n",
       " array([327.4, 179.5, 279.4, 139.1, 92.5, 926.7, 2186.3, 96.8, 523.9,\n",
       "        935.9, 444.2, 119.7, 300.7, 201.9, 194.7, 1592.9, 5142.2],\n",
       "       dtype=object))"
      ]
     },
     "execution_count": 5,
     "metadata": {},
     "output_type": "execute_result"
    }
   ],
   "source": [
    "x1 = data[:,1]\n",
    "y1 = data[:,2]\n",
    "x1,y1"
   ]
  },
  {
   "cell_type": "code",
   "execution_count": 6,
   "id": "c50ae19c",
   "metadata": {},
   "outputs": [],
   "source": [
    "A=np.array([x1,np.ones(len(x1))])\n",
    "#A = np.vstack([x1,np.ones(len(x1))]).T\n",
    "m,c = np.linalg.lstsq(A.T.astype('float'),y1.astype('float'),rcond=None)[0]"
   ]
  },
  {
   "cell_type": "code",
   "execution_count": 7,
   "id": "1c07a8ac",
   "metadata": {},
   "outputs": [],
   "source": [
    "def fig_nuage(x,y):\n",
    "    return plt.scatter(x,y,s=75,color='pink')"
   ]
  },
  {
   "cell_type": "code",
   "execution_count": 8,
   "id": "7e894ace",
   "metadata": {},
   "outputs": [
    {
     "data": {
      "text/plain": [
       "<matplotlib.collections.PathCollection at 0x7fed40836140>"
      ]
     },
     "execution_count": 8,
     "metadata": {},
     "output_type": "execute_result"
    },
    {
     "data": {
      "image/png": "[encoded data removed]",
      "text/plain": [
       "<Figure size 640x480 with 1 Axes>"
      ]
     },
     "metadata": {},
     "output_type": "display_data"
    }
   ],
   "source": [
    "fig_nuage(x1,y1)"
   ]
  },
  {
   "cell_type": "code",
   "execution_count": 9,
   "id": "2be0ab6d",
   "metadata": {},
   "outputs": [],
   "source": [
    "def cov(x,y):\n",
    "    return (1 / len(x))*np.sum((x - np.mean(x))*(y - np.mean(y)))\n",
    "    "
   ]
  },
  {
   "cell_type": "code",
   "execution_count": 10,
   "id": "6db01b30",
   "metadata": {},
   "outputs": [
    {
     "data": {
      "text/plain": [
       "70177.68989619377"
      ]
     },
     "execution_count": 10,
     "metadata": {},
     "output_type": "execute_result"
    }
   ],
   "source": [
    "cov(x1,y1)"
   ]
  },
  {
   "cell_type": "code",
   "execution_count": 11,
   "id": "ebf6c32f",
   "metadata": {},
   "outputs": [],
   "source": [
    "def regression_mc(x, y):\n",
    "    m = cov(x, y)/np.var(x)\n",
    "    p = np.mean(y) - m*np.mean(x)\n",
    "    return m, p"
   ]
  },
  {
   "cell_type": "code",
   "execution_count": 12,
   "id": "a5167985",
   "metadata": {},
   "outputs": [],
   "source": [
    "def fig_regression(x,y):\n",
    "    a = regression_mc(x,y)[1]\n",
    "    b = regression_mc(x,y)[0]\n",
    "    return plt.plot(x,a+b*x,color='red') and fig_nuage(x,y)\n",
    "    "
   ]
  },
  {
   "cell_type": "code",
   "execution_count": 13,
   "id": "e001e19d",
   "metadata": {},
   "outputs": [
    {
     "data": {
      "text/plain": [
       "<matplotlib.collections.PathCollection at 0x7fed3e6e7070>"
      ]
     },
     "execution_count": 13,
     "metadata": {},
     "output_type": "execute_result"
    },
    {
     "data": {
      "image/png": "[encoded data removed]",
      "text/plain": [
       "<Figure size 640x480 with 1 Axes>"
      ]
     },
     "metadata": {},
     "output_type": "display_data"
    }
   ],
   "source": [
    "\n",
    "fig_regression(x1,y1)"
   ]
  },
  {
   "cell_type": "code",
   "execution_count": 14,
   "id": "309af5d9",
   "metadata": {},
   "outputs": [],
   "source": [
    "#2eme mode de resolution"
   ]
  },
  {
   "cell_type": "code",
   "execution_count": 15,
   "id": "4cd52163",
   "metadata": {},
   "outputs": [],
   "source": [
    "A=np.array([x1,np.ones(len(x1))])\n",
    "#A = np.vstack([x1,np.ones(len(x1))]).T\n",
    "m,c = np.linalg.lstsq(A.T.astype('float'),y1.astype('float'),rcond=None)[0]"
   ]
  },
  {
   "cell_type": "code",
   "execution_count": 16,
   "id": "27a3c663",
   "metadata": {},
   "outputs": [
    {
     "data": {
      "text/plain": [
       "<matplotlib.legend.Legend at 0x7fed3e6bfaf0>"
      ]
     },
     "execution_count": 16,
     "metadata": {},
     "output_type": "execute_result"
    },
    {
     "data": {
      "image/png": "[encoded data removed]",
      "text/plain": [
       "<Figure size 640x480 with 1 Axes>"
      ]
     },
     "metadata": {},
     "output_type": "display_data"
    }
   ],
   "source": [
    "plt.scatter(x1,y1,s=50,color=\"red\",label=\"original\")\n",
    "plt.plot(x1,m*x1+c,color=\"green\",label=\"Regression\")\n",
    "plt.legend()"
   ]
  },
  {
   "cell_type": "code",
   "execution_count": 17,
   "id": "09f4a869",
   "metadata": {},
   "outputs": [],
   "source": [
    "#Le modele lineaire semble appropie"
   ]
  },
  {
   "cell_type": "code",
   "execution_count": 18,
   "id": "23544b5e",
   "metadata": {},
   "outputs": [],
   "source": [
    "#le nuage de points se rapproche de la droite de regression"
   ]
  },
  {
   "cell_type": "code",
   "execution_count": 19,
   "id": "82241abf",
   "metadata": {},
   "outputs": [
    {
     "data": {
      "text/plain": [
       "2940.8632397669353"
      ]
     },
     "execution_count": 19,
     "metadata": {},
     "output_type": "execute_result"
    }
   ],
   "source": [
    "#estimation de la consommation de confiserie pour le Bresil\n",
    "regression_mc(x1,y1)[1] + regression_mc(x1,y1)[0]*160"
   ]
  },
  {
   "cell_type": "code",
   "execution_count": 20,
   "id": "84f03fe7",
   "metadata": {},
   "outputs": [],
   "source": [
    "def cor(x,y):\n",
    "    return cov(x,y)/np.sqrt(np.var(x)*np.var(y))"
   ]
  },
  {
   "cell_type": "code",
   "execution_count": 21,
   "id": "7247b8fb",
   "metadata": {},
   "outputs": [
    {
     "data": {
      "text/plain": [
       "0.9310645268383964"
      ]
     },
     "execution_count": 21,
     "metadata": {},
     "output_type": "execute_result"
    }
   ],
   "source": [
    "#le coefficient de correlation\n",
    "cor(x1,y1)\n",
    "#il confirme les observations visuelles"
   ]
  },
  {
   "cell_type": "code",
   "execution_count": 22,
   "id": "383df8dc",
   "metadata": {},
   "outputs": [
    {
     "data": {
      "text/plain": [
       "0.8668811531368069"
      ]
     },
     "execution_count": 22,
     "metadata": {},
     "output_type": "execute_result"
    }
   ],
   "source": [
    "#ici, parce que c'est une regression lineaire simple, \n",
    "#on a le coefficient de determination R = |r|\n",
    "#R**2 = \n",
    "cor(x1,y1)**2\n",
    "#il confirme les observations visuelles"
   ]
  },
  {
   "cell_type": "code",
   "execution_count": 23,
   "id": "1f306cc6",
   "metadata": {},
   "outputs": [],
   "source": [
    "def residus_normalises(x,y):\n",
    "    a = regression_mc(x,y)[1]\n",
    "    b = regression_mc(x,y)[0]\n",
    "    sr = len(x)*(np.var(x)*np.var(y)-cov(x,y)**2)/np.var(x)\n",
    "    return (y-a-b*x)/(np.sqrt(sr/(len(x)-2)))"
   ]
  },
  {
   "cell_type": "code",
   "execution_count": 24,
   "id": "2ac2f1a6",
   "metadata": {},
   "outputs": [
    {
     "data": {
      "text/plain": [
       "array([0.04039904758577502, 0.10193132723443979, 0.20745121025594102,\n",
       "       0.11787214951365024, 0.023587574018633827, -0.23614738118038817,\n",
       "       1.5312869280944001, 0.09094468518606166, -1.1196958084107187,\n",
       "       -2.8246477703926893, 0.3719632113546402, 0.10809510162582235,\n",
       "       -0.8592327589075966, 0.1102552851453459, 0.16504529417429076,\n",
       "       1.1362281751046264, 1.0346637295977625], dtype=object)"
      ]
     },
     "execution_count": 24,
     "metadata": {},
     "output_type": "execute_result"
    }
   ],
   "source": [
    "residus_normalises(x1,y1)"
   ]
  },
  {
   "cell_type": "code",
   "execution_count": 25,
   "id": "4da605b3",
   "metadata": {},
   "outputs": [
    {
     "data": {
      "text/plain": [
       "array(['Japan', 124.0, 935.9], dtype=object)"
      ]
     },
     "execution_count": 25,
     "metadata": {},
     "output_type": "execute_result"
    }
   ],
   "source": [
    "maxi=np.max(np.abs(residus_normalises(x1,y1)))\n",
    "ind=0\n",
    "ret=0\n",
    "for x in residus_normalises(x1,y1):\n",
    "    if ((x==maxi) | (x==-maxi)):\n",
    "            ret=ind\n",
    "    ind=ind+1      \n",
    "ret\n",
    "data[ret]"
   ]
  },
  {
   "cell_type": "code",
   "execution_count": 26,
   "id": "d9dd84bc",
   "metadata": {},
   "outputs": [],
   "source": [
    "#dans ce graph, on peut voir qu'il existe un point qui est plus loin\n",
    "#et qui n'est pas entre -2 et 2\n",
    "#dessus, j'ai essaye de trouver son index et j'ai decouvert c'est Japan\n",
    "#Je suppose que si j'efface Japane le coefficient de correlation se \n",
    "#va ameliorer"
   ]
  },
  {
   "cell_type": "code",
   "execution_count": 27,
   "id": "5ecb18d2",
   "metadata": {},
   "outputs": [
    {
     "data": {
      "text/plain": [
       "<matplotlib.collections.PathCollection at 0x7fed3e62c7c0>"
      ]
     },
     "execution_count": 27,
     "metadata": {},
     "output_type": "execute_result"
    },
    {
     "data": {
      "image/png": "[encoded data removed]",
      "text/plain": [
       "<Figure size 640x480 with 1 Axes>"
      ]
     },
     "metadata": {},
     "output_type": "display_data"
    }
   ],
   "source": [
    "fig_regression(x1,residus_normalises(x1,y1))"
   ]
  },
  {
   "cell_type": "code",
   "execution_count": 28,
   "id": "444c3b4f",
   "metadata": {},
   "outputs": [],
   "source": [
    "#essaye sans Japan"
   ]
  },
  {
   "cell_type": "code",
   "execution_count": 29,
   "id": "94fc458b",
   "metadata": {},
   "outputs": [
    {
     "data": {
      "text/plain": [
       "<matplotlib.collections.PathCollection at 0x7fed3e49db40>"
      ]
     },
     "execution_count": 29,
     "metadata": {},
     "output_type": "execute_result"
    },
    {
     "data": {
      "image/png": "[encoded data removed]",
      "text/plain": [
       "<Figure size 640x480 with 1 Axes>"
      ]
     },
     "metadata": {},
     "output_type": "display_data"
    }
   ],
   "source": [
    "dataJ=dt.drop(9).to_numpy()\n",
    "x1J = dataJ[:,1]\n",
    "y1J = dataJ[:,2]\n",
    "fig_regression(x1J,y1J)"
   ]
  },
  {
   "cell_type": "code",
   "execution_count": 30,
   "id": "51ab4c38",
   "metadata": {},
   "outputs": [
    {
     "data": {
      "text/plain": [
       "<matplotlib.collections.PathCollection at 0x7fed3e516b60>"
      ]
     },
     "execution_count": 30,
     "metadata": {},
     "output_type": "execute_result"
    },
    {
     "data": {
      "image/png": "[encoded data removed]",
      "text/plain": [
       "<Figure size 640x480 with 1 Axes>"
      ]
     },
     "metadata": {},
     "output_type": "display_data"
    }
   ],
   "source": [
    "fig_regression(x1J,residus_normalises(x1J,y1J))"
   ]
  },
  {
   "cell_type": "code",
   "execution_count": 31,
   "id": "666f62bd",
   "metadata": {},
   "outputs": [
    {
     "data": {
      "text/plain": [
       "0.9508640349799405"
      ]
     },
     "execution_count": 31,
     "metadata": {},
     "output_type": "execute_result"
    }
   ],
   "source": [
    "cor(x1J,y1J)**2"
   ]
  },
  {
   "cell_type": "code",
   "execution_count": 32,
   "id": "5e8513c4",
   "metadata": {},
   "outputs": [],
   "source": [
    "#exerxice 2"
   ]
  },
  {
   "cell_type": "code",
   "execution_count": 33,
   "id": "8f04c82c",
   "metadata": {},
   "outputs": [],
   "source": [
    "d2 = pd.read_csv('reactions.csv',header=None)"
   ]
  },
  {
   "cell_type": "code",
   "execution_count": 34,
   "id": "94b5da13",
   "metadata": {},
   "outputs": [
    {
     "data": {
      "text/plain": [
       "array([['exp1', 0.1, 0.9],\n",
       "       ['exp2', 0.3, 0.92],\n",
       "       ['exp3', 0.7, 0.95],\n",
       "       ['exp4', 1.0, 0.965],\n",
       "       ['exp5', 1.5, 0.97],\n",
       "       ['exp6', 2.0, 0.98]], dtype=object)"
      ]
     },
     "execution_count": 34,
     "metadata": {},
     "output_type": "execute_result"
    }
   ],
   "source": [
    "data2 = d2.to_numpy()\n",
    "data2"
   ]
  },
  {
   "cell_type": "code",
   "execution_count": 35,
   "id": "52f3eb5f",
   "metadata": {},
   "outputs": [
    {
     "data": {
      "text/plain": [
       "(array([0.1, 0.3, 0.7, 1.0, 1.5, 2.0], dtype=object),\n",
       " array([0.9, 0.92, 0.95, 0.965, 0.97, 0.98], dtype=object))"
      ]
     },
     "execution_count": 35,
     "metadata": {},
     "output_type": "execute_result"
    }
   ],
   "source": [
    "x2=data2[:,1]\n",
    "y2=data2[:,2]\n",
    "x2,y2"
   ]
  },
  {
   "cell_type": "code",
   "execution_count": 36,
   "id": "2ed7bc5e",
   "metadata": {},
   "outputs": [
    {
     "data": {
      "text/plain": [
       "<matplotlib.collections.PathCollection at 0x7fed3e3a2dd0>"
      ]
     },
     "execution_count": 36,
     "metadata": {},
     "output_type": "execute_result"
    },
    {
     "data": {
      "image/png": "[encoded data removed]",
      "text/plain": [
       "<Figure size 640x480 with 1 Axes>"
      ]
     },
     "metadata": {},
     "output_type": "display_data"
    }
   ],
   "source": [
    "fig_regression(x2,y2)"
   ]
  },
  {
   "cell_type": "code",
   "execution_count": 37,
   "id": "8353d4ea",
   "metadata": {},
   "outputs": [
    {
     "data": {
      "text/html": [
       "<div>\n",
       "<style scoped>\n",
       "    .dataframe tbody tr th:only-of-type {\n",
       "        vertical-align: middle;\n",
       "    }\n",
       "\n",
       "    .dataframe tbody tr th {\n",
       "        vertical-align: top;\n",
       "    }\n",
       "\n",
       "    .dataframe thead th {\n",
       "        text-align: right;\n",
       "    }\n",
       "</style>\n",
       "<table border=\"1\" class=\"dataframe\">\n",
       "  <thead>\n",
       "    <tr style=\"text-align: right;\">\n",
       "      <th></th>\n",
       "      <th>y</th>\n",
       "      <th>y*</th>\n",
       "      <th>residu</th>\n",
       "      <th>residu normalise</th>\n",
       "    </tr>\n",
       "  </thead>\n",
       "  <tbody>\n",
       "    <tr>\n",
       "      <th>0</th>\n",
       "      <td>0.9</td>\n",
       "      <td>0.914018</td>\n",
       "      <td>-0.014018</td>\n",
       "      <td>-1.084126</td>\n",
       "    </tr>\n",
       "    <tr>\n",
       "      <th>1</th>\n",
       "      <td>0.92</td>\n",
       "      <td>0.922054</td>\n",
       "      <td>-0.002054</td>\n",
       "      <td>-0.158821</td>\n",
       "    </tr>\n",
       "    <tr>\n",
       "      <th>2</th>\n",
       "      <td>0.95</td>\n",
       "      <td>0.938125</td>\n",
       "      <td>0.011875</td>\n",
       "      <td>0.9184</td>\n",
       "    </tr>\n",
       "    <tr>\n",
       "      <th>3</th>\n",
       "      <td>0.965</td>\n",
       "      <td>0.950179</td>\n",
       "      <td>0.014821</td>\n",
       "      <td>1.146273</td>\n",
       "    </tr>\n",
       "    <tr>\n",
       "      <th>4</th>\n",
       "      <td>0.97</td>\n",
       "      <td>0.970268</td>\n",
       "      <td>-0.000268</td>\n",
       "      <td>-0.020716</td>\n",
       "    </tr>\n",
       "    <tr>\n",
       "      <th>5</th>\n",
       "      <td>0.98</td>\n",
       "      <td>0.990357</td>\n",
       "      <td>-0.010357</td>\n",
       "      <td>-0.80101</td>\n",
       "    </tr>\n",
       "  </tbody>\n",
       "</table>\n",
       "</div>"
      ],
      "text/plain": [
       "       y        y*    residu residu normalise\n",
       "0    0.9  0.914018 -0.014018        -1.084126\n",
       "1   0.92  0.922054 -0.002054        -0.158821\n",
       "2   0.95  0.938125  0.011875           0.9184\n",
       "3  0.965  0.950179  0.014821         1.146273\n",
       "4   0.97  0.970268 -0.000268        -0.020716\n",
       "5   0.98  0.990357 -0.010357         -0.80101"
      ]
     },
     "execution_count": 37,
     "metadata": {},
     "output_type": "execute_result"
    }
   ],
   "source": [
    "b,a=regression_mc(x2,y2)\n",
    "residus=y2-x2*b-a\n",
    "data_epsi = np.array([y2,a+b*x2,residus,residus_normalises(x2,y2)])\n",
    "epsi_df = pd.DataFrame(data_epsi.transpose(),columns=['y','y*','residu','residu normalise'])\n",
    "epsi_df"
   ]
  },
  {
   "cell_type": "code",
   "execution_count": 38,
   "id": "5edfef99",
   "metadata": {},
   "outputs": [],
   "source": [
    "#Un modele quadratique semblerait plus approprie"
   ]
  },
  {
   "cell_type": "code",
   "execution_count": 39,
   "id": "c3ec8653",
   "metadata": {},
   "outputs": [
    {
     "data": {
      "text/plain": [
       "<matplotlib.collections.PathCollection at 0x7fed3e43cfa0>"
      ]
     },
     "execution_count": 39,
     "metadata": {},
     "output_type": "execute_result"
    },
    {
     "data": {
      "image/png": "[encoded data removed]",
      "text/plain": [
       "<Figure size 640x480 with 1 Axes>"
      ]
     },
     "metadata": {},
     "output_type": "display_data"
    }
   ],
   "source": [
    "fig_regression(x2,residus_normalises(x2,y2))"
   ]
  },
  {
   "cell_type": "code",
   "execution_count": 40,
   "id": "be1e84b0",
   "metadata": {},
   "outputs": [],
   "source": [
    "#les residus ont un tendance croissant, puis decroissant"
   ]
  },
  {
   "cell_type": "code",
   "execution_count": 41,
   "id": "4c4b0926",
   "metadata": {},
   "outputs": [],
   "source": [
    "#p* = ln(p/1-p)\n",
    "#a+bt=p*"
   ]
  },
  {
   "cell_type": "code",
   "execution_count": 42,
   "id": "5efe4a3d",
   "metadata": {},
   "outputs": [],
   "source": [
    "y22 = np.log(np.array(y2/(1-y2), dtype=int)) #ca marche pas sans dtype=int, il peut modifier un peu les donnees"
   ]
  },
  {
   "cell_type": "code",
   "execution_count": 43,
   "id": "29f20226",
   "metadata": {},
   "outputs": [
    {
     "data": {
      "text/plain": [
       "array([2.19722458, 2.39789527, 2.89037176, 3.29583687, 3.4657359 ,\n",
       "       3.87120101])"
      ]
     },
     "execution_count": 43,
     "metadata": {},
     "output_type": "execute_result"
    }
   ],
   "source": [
    "y22"
   ]
  },
  {
   "cell_type": "code",
   "execution_count": 44,
   "id": "fc92cb2b",
   "metadata": {},
   "outputs": [
    {
     "data": {
      "text/plain": [
       "<matplotlib.collections.PathCollection at 0x7fed3e29e1d0>"
      ]
     },
     "execution_count": 44,
     "metadata": {},
     "output_type": "execute_result"
    },
    {
     "data": {
      "image/png": "[encoded data removed]",
      "text/plain": [
       "<Figure size 640x480 with 1 Axes>"
      ]
     },
     "metadata": {},
     "output_type": "display_data"
    }
   ],
   "source": [
    "fig_regression(x2,y22)"
   ]
  },
  {
   "cell_type": "code",
   "execution_count": 45,
   "id": "1c127657",
   "metadata": {},
   "outputs": [
    {
     "data": {
      "text/plain": [
       "<matplotlib.collections.PathCollection at 0x7fed3e332050>"
      ]
     },
     "execution_count": 45,
     "metadata": {},
     "output_type": "execute_result"
    },
    {
     "data": {
      "image/png": "[encoded data removed]",
      "text/plain": [
       "<Figure size 640x480 with 1 Axes>"
      ]
     },
     "metadata": {},
     "output_type": "display_data"
    }
   ],
   "source": [
    "fig_regression(x2,residus_normalises(x2,y22))"
   ]
  },
  {
   "cell_type": "code",
   "execution_count": null,
   "id": "915f774d",
   "metadata": {},
   "outputs": [],
   "source": []
  }
 ],
 "metadata": {
  "kernelspec": {
   "display_name": "Python 3 (ipykernel)",
   "language": "python",
   "name": "python3"
  },
  "language_info": {
   "codemirror_mode": {
    "name": "ipython",
    "version": 3
   },
   "file_extension": ".py",
   "mimetype": "text/x-python",
   "name": "python",
   "nbconvert_exporter": "python",
   "pygments_lexer": "ipython3",
   "version": "3.10.12"
  }
 },
 "nbformat": 4,
 "nbformat_minor": 5
}
